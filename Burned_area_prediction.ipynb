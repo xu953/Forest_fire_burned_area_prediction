{
  "nbformat": 4,
  "nbformat_minor": 0,
  "metadata": {
    "kernelspec": {
      "display_name": "Python 3",
      "language": "python",
      "name": "python3"
    },
    "language_info": {
      "codemirror_mode": {
        "name": "ipython",
        "version": 3
      },
      "file_extension": ".py",
      "mimetype": "text/x-python",
      "name": "python",
      "nbconvert_exporter": "python",
      "pygments_lexer": "ipython3",
      "version": "3.7.6"
    },
    "colab": {
      "name": "Copy of Burned area prediction.ipynb",
      "provenance": [],
      "collapsed_sections": [
        "UzEpphP7-8ok",
        "W_XBWs2K8chO"
      ]
    }
  },
  "cells": [
    {
      "cell_type": "code",
      "metadata": {
        "id": "_pM1TI8FocRc"
      },
      "source": [
        "# Import necessary libraries\n",
        "import numpy as np\n",
        "import pandas as pd\n",
        "import matplotlib.pyplot as plt\n",
        "import tensorflow as tf\n",
        "import sklearn\n",
        "import seaborn as sns     \n",
        "import pandas as pd\n"
      ],
      "execution_count": null,
      "outputs": []
    },
    {
      "cell_type": "code",
      "metadata": {
        "id": "j1eC0AhIocRo"
      },
      "source": [
        "# Load the .csv file using the pandas library. \n",
        "# Assign header=0 to set the first row of the data to be the column titles.\n",
        "data = pd.read_csv(r'/content/drive/My Drive/Colab Notebooks/Forest_fires_dataset.csv',header=0) # Specify the correct file path"
      ],
      "execution_count": null,
      "outputs": []
    },
    {
      "cell_type": "code",
      "metadata": {
        "id": "oAo78m4Gpl7H",
        "colab": {
          "base_uri": "https://localhost:8080/"
        },
        "outputId": "66c87c9e-59b8-48be-d15e-4ffc803c88d4"
      },
      "source": [
        "from google.colab import drive\n",
        "drive.mount('/content/drive')"
      ],
      "execution_count": null,
      "outputs": [
        {
          "output_type": "stream",
          "text": [
            "Mounted at /content/drive\n"
          ],
          "name": "stdout"
        }
      ]
    },
    {
      "cell_type": "markdown",
      "metadata": {
        "id": "de8VsGoQ8n8-"
      },
      "source": [
        "## Data preprocessing"
      ]
    },
    {
      "cell_type": "code",
      "metadata": {
        "id": "QprmMxRmocRq",
        "colab": {
          "base_uri": "https://localhost:8080/",
          "height": 194
        },
        "outputId": "e8e87a8b-4427-47ce-ca95-2c58c30945d5"
      },
      "source": [
        "data.head()"
      ],
      "execution_count": null,
      "outputs": [
        {
          "output_type": "execute_result",
          "data": {
            "text/html": [
              "<div>\n",
              "<style scoped>\n",
              "    .dataframe tbody tr th:only-of-type {\n",
              "        vertical-align: middle;\n",
              "    }\n",
              "\n",
              "    .dataframe tbody tr th {\n",
              "        vertical-align: top;\n",
              "    }\n",
              "\n",
              "    .dataframe thead th {\n",
              "        text-align: right;\n",
              "    }\n",
              "</style>\n",
              "<table border=\"1\" class=\"dataframe\">\n",
              "  <thead>\n",
              "    <tr style=\"text-align: right;\">\n",
              "      <th></th>\n",
              "      <th>X</th>\n",
              "      <th>Y</th>\n",
              "      <th>month</th>\n",
              "      <th>day</th>\n",
              "      <th>FFMC</th>\n",
              "      <th>DMC</th>\n",
              "      <th>DC</th>\n",
              "      <th>ISI</th>\n",
              "      <th>temp</th>\n",
              "      <th>RH</th>\n",
              "      <th>wind</th>\n",
              "      <th>rain</th>\n",
              "      <th>area</th>\n",
              "    </tr>\n",
              "  </thead>\n",
              "  <tbody>\n",
              "    <tr>\n",
              "      <th>0</th>\n",
              "      <td>7</td>\n",
              "      <td>5</td>\n",
              "      <td>mar</td>\n",
              "      <td>fri</td>\n",
              "      <td>86.2</td>\n",
              "      <td>26.2</td>\n",
              "      <td>94.3</td>\n",
              "      <td>5.1</td>\n",
              "      <td>8.2</td>\n",
              "      <td>51</td>\n",
              "      <td>6.7</td>\n",
              "      <td>0.0</td>\n",
              "      <td>0.0</td>\n",
              "    </tr>\n",
              "    <tr>\n",
              "      <th>1</th>\n",
              "      <td>7</td>\n",
              "      <td>4</td>\n",
              "      <td>oct</td>\n",
              "      <td>tue</td>\n",
              "      <td>90.6</td>\n",
              "      <td>35.4</td>\n",
              "      <td>669.1</td>\n",
              "      <td>6.7</td>\n",
              "      <td>18.0</td>\n",
              "      <td>33</td>\n",
              "      <td>0.9</td>\n",
              "      <td>0.0</td>\n",
              "      <td>0.0</td>\n",
              "    </tr>\n",
              "    <tr>\n",
              "      <th>2</th>\n",
              "      <td>7</td>\n",
              "      <td>4</td>\n",
              "      <td>oct</td>\n",
              "      <td>sat</td>\n",
              "      <td>90.6</td>\n",
              "      <td>43.7</td>\n",
              "      <td>686.9</td>\n",
              "      <td>6.7</td>\n",
              "      <td>14.6</td>\n",
              "      <td>33</td>\n",
              "      <td>1.3</td>\n",
              "      <td>0.0</td>\n",
              "      <td>0.0</td>\n",
              "    </tr>\n",
              "    <tr>\n",
              "      <th>3</th>\n",
              "      <td>8</td>\n",
              "      <td>6</td>\n",
              "      <td>mar</td>\n",
              "      <td>fri</td>\n",
              "      <td>91.7</td>\n",
              "      <td>33.3</td>\n",
              "      <td>77.5</td>\n",
              "      <td>9.0</td>\n",
              "      <td>8.3</td>\n",
              "      <td>97</td>\n",
              "      <td>4.0</td>\n",
              "      <td>0.2</td>\n",
              "      <td>0.0</td>\n",
              "    </tr>\n",
              "    <tr>\n",
              "      <th>4</th>\n",
              "      <td>8</td>\n",
              "      <td>6</td>\n",
              "      <td>mar</td>\n",
              "      <td>sun</td>\n",
              "      <td>89.3</td>\n",
              "      <td>51.3</td>\n",
              "      <td>102.2</td>\n",
              "      <td>9.6</td>\n",
              "      <td>11.4</td>\n",
              "      <td>99</td>\n",
              "      <td>1.8</td>\n",
              "      <td>0.0</td>\n",
              "      <td>0.0</td>\n",
              "    </tr>\n",
              "  </tbody>\n",
              "</table>\n",
              "</div>"
            ],
            "text/plain": [
              "   X  Y month  day  FFMC   DMC     DC  ISI  temp  RH  wind  rain  area\n",
              "0  7  5   mar  fri  86.2  26.2   94.3  5.1   8.2  51   6.7   0.0   0.0\n",
              "1  7  4   oct  tue  90.6  35.4  669.1  6.7  18.0  33   0.9   0.0   0.0\n",
              "2  7  4   oct  sat  90.6  43.7  686.9  6.7  14.6  33   1.3   0.0   0.0\n",
              "3  8  6   mar  fri  91.7  33.3   77.5  9.0   8.3  97   4.0   0.2   0.0\n",
              "4  8  6   mar  sun  89.3  51.3  102.2  9.6  11.4  99   1.8   0.0   0.0"
            ]
          },
          "metadata": {
            "tags": []
          },
          "execution_count": 73
        }
      ]
    },
    {
      "cell_type": "code",
      "metadata": {
        "id": "SMZ5SXgmocRt"
      },
      "source": [
        "# Drop the column x, y, day. \n",
        "data.drop(columns='X', inplace=True)\n",
        "data.drop(columns='Y', inplace=True)\n",
        "data.drop(columns='day', inplace=True)"
      ],
      "execution_count": null,
      "outputs": []
    },
    {
      "cell_type": "code",
      "metadata": {
        "id": "0Ivo9JXYocRx",
        "colab": {
          "base_uri": "https://localhost:8080/",
          "height": 194
        },
        "outputId": "81ea9d64-86b6-4cd7-cd1c-17b42fd3d722"
      },
      "source": [
        "# Replace each month with numbers \n",
        "list_month=['jan','feb','mar','apr','may','jun','jul','aug','sep','oct','nov','dec']\n",
        "for i in range(12):\n",
        "     data.replace(to_replace=list_month[i], value=i+1, inplace=True)\n",
        "data.head()\n",
        "        "
      ],
      "execution_count": null,
      "outputs": [
        {
          "output_type": "execute_result",
          "data": {
            "text/html": [
              "<div>\n",
              "<style scoped>\n",
              "    .dataframe tbody tr th:only-of-type {\n",
              "        vertical-align: middle;\n",
              "    }\n",
              "\n",
              "    .dataframe tbody tr th {\n",
              "        vertical-align: top;\n",
              "    }\n",
              "\n",
              "    .dataframe thead th {\n",
              "        text-align: right;\n",
              "    }\n",
              "</style>\n",
              "<table border=\"1\" class=\"dataframe\">\n",
              "  <thead>\n",
              "    <tr style=\"text-align: right;\">\n",
              "      <th></th>\n",
              "      <th>month</th>\n",
              "      <th>FFMC</th>\n",
              "      <th>DMC</th>\n",
              "      <th>DC</th>\n",
              "      <th>ISI</th>\n",
              "      <th>temp</th>\n",
              "      <th>RH</th>\n",
              "      <th>wind</th>\n",
              "      <th>rain</th>\n",
              "      <th>area</th>\n",
              "    </tr>\n",
              "  </thead>\n",
              "  <tbody>\n",
              "    <tr>\n",
              "      <th>0</th>\n",
              "      <td>3</td>\n",
              "      <td>86.2</td>\n",
              "      <td>26.2</td>\n",
              "      <td>94.3</td>\n",
              "      <td>5.1</td>\n",
              "      <td>8.2</td>\n",
              "      <td>51</td>\n",
              "      <td>6.7</td>\n",
              "      <td>0.0</td>\n",
              "      <td>0.0</td>\n",
              "    </tr>\n",
              "    <tr>\n",
              "      <th>1</th>\n",
              "      <td>10</td>\n",
              "      <td>90.6</td>\n",
              "      <td>35.4</td>\n",
              "      <td>669.1</td>\n",
              "      <td>6.7</td>\n",
              "      <td>18.0</td>\n",
              "      <td>33</td>\n",
              "      <td>0.9</td>\n",
              "      <td>0.0</td>\n",
              "      <td>0.0</td>\n",
              "    </tr>\n",
              "    <tr>\n",
              "      <th>2</th>\n",
              "      <td>10</td>\n",
              "      <td>90.6</td>\n",
              "      <td>43.7</td>\n",
              "      <td>686.9</td>\n",
              "      <td>6.7</td>\n",
              "      <td>14.6</td>\n",
              "      <td>33</td>\n",
              "      <td>1.3</td>\n",
              "      <td>0.0</td>\n",
              "      <td>0.0</td>\n",
              "    </tr>\n",
              "    <tr>\n",
              "      <th>3</th>\n",
              "      <td>3</td>\n",
              "      <td>91.7</td>\n",
              "      <td>33.3</td>\n",
              "      <td>77.5</td>\n",
              "      <td>9.0</td>\n",
              "      <td>8.3</td>\n",
              "      <td>97</td>\n",
              "      <td>4.0</td>\n",
              "      <td>0.2</td>\n",
              "      <td>0.0</td>\n",
              "    </tr>\n",
              "    <tr>\n",
              "      <th>4</th>\n",
              "      <td>3</td>\n",
              "      <td>89.3</td>\n",
              "      <td>51.3</td>\n",
              "      <td>102.2</td>\n",
              "      <td>9.6</td>\n",
              "      <td>11.4</td>\n",
              "      <td>99</td>\n",
              "      <td>1.8</td>\n",
              "      <td>0.0</td>\n",
              "      <td>0.0</td>\n",
              "    </tr>\n",
              "  </tbody>\n",
              "</table>\n",
              "</div>"
            ],
            "text/plain": [
              "   month  FFMC   DMC     DC  ISI  temp  RH  wind  rain  area\n",
              "0      3  86.2  26.2   94.3  5.1   8.2  51   6.7   0.0   0.0\n",
              "1     10  90.6  35.4  669.1  6.7  18.0  33   0.9   0.0   0.0\n",
              "2     10  90.6  43.7  686.9  6.7  14.6  33   1.3   0.0   0.0\n",
              "3      3  91.7  33.3   77.5  9.0   8.3  97   4.0   0.2   0.0\n",
              "4      3  89.3  51.3  102.2  9.6  11.4  99   1.8   0.0   0.0"
            ]
          },
          "metadata": {
            "tags": []
          },
          "execution_count": 75
        }
      ]
    },
    {
      "cell_type": "code",
      "metadata": {
        "id": "p6t82HGOocRz",
        "colab": {
          "base_uri": "https://localhost:8080/",
          "height": 194
        },
        "outputId": "a4dfe0ca-25dd-4efd-e098-8f13f54afabd"
      },
      "source": [
        "# Arrange different months into seasons\n",
        "conditions=[\n",
        "    (data['month']<=2),\n",
        "    (data['month']>2)&(data['month']<=5),\n",
        "    (data['month']>5)&(data['month']<=8),\n",
        "    (data['month']>8)&(data['month']<=11),\n",
        "    (data['month']==12)]\n",
        "\n",
        "values=[4,1,2,3,4] # 1 - Spring, 2 - Summer, 3 - Fall, 4 - Winter\n",
        "data['month']=np.select(conditions,values)\n",
        "data = data.rename(columns={'month': 'season'})\n",
        "data.head()\n"
      ],
      "execution_count": null,
      "outputs": [
        {
          "output_type": "execute_result",
          "data": {
            "text/html": [
              "<div>\n",
              "<style scoped>\n",
              "    .dataframe tbody tr th:only-of-type {\n",
              "        vertical-align: middle;\n",
              "    }\n",
              "\n",
              "    .dataframe tbody tr th {\n",
              "        vertical-align: top;\n",
              "    }\n",
              "\n",
              "    .dataframe thead th {\n",
              "        text-align: right;\n",
              "    }\n",
              "</style>\n",
              "<table border=\"1\" class=\"dataframe\">\n",
              "  <thead>\n",
              "    <tr style=\"text-align: right;\">\n",
              "      <th></th>\n",
              "      <th>season</th>\n",
              "      <th>FFMC</th>\n",
              "      <th>DMC</th>\n",
              "      <th>DC</th>\n",
              "      <th>ISI</th>\n",
              "      <th>temp</th>\n",
              "      <th>RH</th>\n",
              "      <th>wind</th>\n",
              "      <th>rain</th>\n",
              "      <th>area</th>\n",
              "    </tr>\n",
              "  </thead>\n",
              "  <tbody>\n",
              "    <tr>\n",
              "      <th>0</th>\n",
              "      <td>1</td>\n",
              "      <td>86.2</td>\n",
              "      <td>26.2</td>\n",
              "      <td>94.3</td>\n",
              "      <td>5.1</td>\n",
              "      <td>8.2</td>\n",
              "      <td>51</td>\n",
              "      <td>6.7</td>\n",
              "      <td>0.0</td>\n",
              "      <td>0.0</td>\n",
              "    </tr>\n",
              "    <tr>\n",
              "      <th>1</th>\n",
              "      <td>3</td>\n",
              "      <td>90.6</td>\n",
              "      <td>35.4</td>\n",
              "      <td>669.1</td>\n",
              "      <td>6.7</td>\n",
              "      <td>18.0</td>\n",
              "      <td>33</td>\n",
              "      <td>0.9</td>\n",
              "      <td>0.0</td>\n",
              "      <td>0.0</td>\n",
              "    </tr>\n",
              "    <tr>\n",
              "      <th>2</th>\n",
              "      <td>3</td>\n",
              "      <td>90.6</td>\n",
              "      <td>43.7</td>\n",
              "      <td>686.9</td>\n",
              "      <td>6.7</td>\n",
              "      <td>14.6</td>\n",
              "      <td>33</td>\n",
              "      <td>1.3</td>\n",
              "      <td>0.0</td>\n",
              "      <td>0.0</td>\n",
              "    </tr>\n",
              "    <tr>\n",
              "      <th>3</th>\n",
              "      <td>1</td>\n",
              "      <td>91.7</td>\n",
              "      <td>33.3</td>\n",
              "      <td>77.5</td>\n",
              "      <td>9.0</td>\n",
              "      <td>8.3</td>\n",
              "      <td>97</td>\n",
              "      <td>4.0</td>\n",
              "      <td>0.2</td>\n",
              "      <td>0.0</td>\n",
              "    </tr>\n",
              "    <tr>\n",
              "      <th>4</th>\n",
              "      <td>1</td>\n",
              "      <td>89.3</td>\n",
              "      <td>51.3</td>\n",
              "      <td>102.2</td>\n",
              "      <td>9.6</td>\n",
              "      <td>11.4</td>\n",
              "      <td>99</td>\n",
              "      <td>1.8</td>\n",
              "      <td>0.0</td>\n",
              "      <td>0.0</td>\n",
              "    </tr>\n",
              "  </tbody>\n",
              "</table>\n",
              "</div>"
            ],
            "text/plain": [
              "   season  FFMC   DMC     DC  ISI  temp  RH  wind  rain  area\n",
              "0       1  86.2  26.2   94.3  5.1   8.2  51   6.7   0.0   0.0\n",
              "1       3  90.6  35.4  669.1  6.7  18.0  33   0.9   0.0   0.0\n",
              "2       3  90.6  43.7  686.9  6.7  14.6  33   1.3   0.0   0.0\n",
              "3       1  91.7  33.3   77.5  9.0   8.3  97   4.0   0.2   0.0\n",
              "4       1  89.3  51.3  102.2  9.6  11.4  99   1.8   0.0   0.0"
            ]
          },
          "metadata": {
            "tags": []
          },
          "execution_count": 76
        }
      ]
    },
    {
      "cell_type": "code",
      "metadata": {
        "id": "K_kxETE5ocR2",
        "colab": {
          "base_uri": "https://localhost:8080/",
          "height": 194
        },
        "outputId": "f6fd0c44-01da-4272-e0f9-882ba1986ec0"
      },
      "source": [
        "data.drop(data[data['area']==0].index,inplace=True)\n",
        "# Delete zeros in \"area\" \n",
        "data.head()"
      ],
      "execution_count": null,
      "outputs": [
        {
          "output_type": "execute_result",
          "data": {
            "text/html": [
              "<div>\n",
              "<style scoped>\n",
              "    .dataframe tbody tr th:only-of-type {\n",
              "        vertical-align: middle;\n",
              "    }\n",
              "\n",
              "    .dataframe tbody tr th {\n",
              "        vertical-align: top;\n",
              "    }\n",
              "\n",
              "    .dataframe thead th {\n",
              "        text-align: right;\n",
              "    }\n",
              "</style>\n",
              "<table border=\"1\" class=\"dataframe\">\n",
              "  <thead>\n",
              "    <tr style=\"text-align: right;\">\n",
              "      <th></th>\n",
              "      <th>season</th>\n",
              "      <th>FFMC</th>\n",
              "      <th>DMC</th>\n",
              "      <th>DC</th>\n",
              "      <th>ISI</th>\n",
              "      <th>temp</th>\n",
              "      <th>RH</th>\n",
              "      <th>wind</th>\n",
              "      <th>rain</th>\n",
              "      <th>area</th>\n",
              "    </tr>\n",
              "  </thead>\n",
              "  <tbody>\n",
              "    <tr>\n",
              "      <th>138</th>\n",
              "      <td>2</td>\n",
              "      <td>85.8</td>\n",
              "      <td>48.3</td>\n",
              "      <td>313.4</td>\n",
              "      <td>3.9</td>\n",
              "      <td>18.0</td>\n",
              "      <td>42</td>\n",
              "      <td>2.7</td>\n",
              "      <td>0.0</td>\n",
              "      <td>0.36</td>\n",
              "    </tr>\n",
              "    <tr>\n",
              "      <th>139</th>\n",
              "      <td>3</td>\n",
              "      <td>91.0</td>\n",
              "      <td>129.5</td>\n",
              "      <td>692.6</td>\n",
              "      <td>7.0</td>\n",
              "      <td>21.7</td>\n",
              "      <td>38</td>\n",
              "      <td>2.2</td>\n",
              "      <td>0.0</td>\n",
              "      <td>0.43</td>\n",
              "    </tr>\n",
              "    <tr>\n",
              "      <th>140</th>\n",
              "      <td>3</td>\n",
              "      <td>90.9</td>\n",
              "      <td>126.5</td>\n",
              "      <td>686.5</td>\n",
              "      <td>7.0</td>\n",
              "      <td>21.9</td>\n",
              "      <td>39</td>\n",
              "      <td>1.8</td>\n",
              "      <td>0.0</td>\n",
              "      <td>0.47</td>\n",
              "    </tr>\n",
              "    <tr>\n",
              "      <th>141</th>\n",
              "      <td>2</td>\n",
              "      <td>95.5</td>\n",
              "      <td>99.9</td>\n",
              "      <td>513.3</td>\n",
              "      <td>13.2</td>\n",
              "      <td>23.3</td>\n",
              "      <td>31</td>\n",
              "      <td>4.5</td>\n",
              "      <td>0.0</td>\n",
              "      <td>0.55</td>\n",
              "    </tr>\n",
              "    <tr>\n",
              "      <th>142</th>\n",
              "      <td>2</td>\n",
              "      <td>90.1</td>\n",
              "      <td>108.0</td>\n",
              "      <td>529.8</td>\n",
              "      <td>12.5</td>\n",
              "      <td>21.2</td>\n",
              "      <td>51</td>\n",
              "      <td>8.9</td>\n",
              "      <td>0.0</td>\n",
              "      <td>0.61</td>\n",
              "    </tr>\n",
              "  </tbody>\n",
              "</table>\n",
              "</div>"
            ],
            "text/plain": [
              "     season  FFMC    DMC     DC   ISI  temp  RH  wind  rain  area\n",
              "138       2  85.8   48.3  313.4   3.9  18.0  42   2.7   0.0  0.36\n",
              "139       3  91.0  129.5  692.6   7.0  21.7  38   2.2   0.0  0.43\n",
              "140       3  90.9  126.5  686.5   7.0  21.9  39   1.8   0.0  0.47\n",
              "141       2  95.5   99.9  513.3  13.2  23.3  31   4.5   0.0  0.55\n",
              "142       2  90.1  108.0  529.8  12.5  21.2  51   8.9   0.0  0.61"
            ]
          },
          "metadata": {
            "tags": []
          },
          "execution_count": 77
        }
      ]
    },
    {
      "cell_type": "code",
      "metadata": {
        "id": "GL9gnrnFOOdg"
      },
      "source": [
        "attributes = data[['FFMC','DMC','DC','ISI','temp','RH','wind','rain']]\n",
        "area = data[['area']]"
      ],
      "execution_count": null,
      "outputs": []
    },
    {
      "cell_type": "code",
      "metadata": {
        "colab": {
          "base_uri": "https://localhost:8080/",
          "height": 302
        },
        "id": "tI4GQAQrIZkW",
        "outputId": "d60d6709-0882-44f1-9b75-b8ee058b3664"
      },
      "source": [
        "data.describe()"
      ],
      "execution_count": null,
      "outputs": [
        {
          "output_type": "execute_result",
          "data": {
            "text/html": [
              "<div>\n",
              "<style scoped>\n",
              "    .dataframe tbody tr th:only-of-type {\n",
              "        vertical-align: middle;\n",
              "    }\n",
              "\n",
              "    .dataframe tbody tr th {\n",
              "        vertical-align: top;\n",
              "    }\n",
              "\n",
              "    .dataframe thead th {\n",
              "        text-align: right;\n",
              "    }\n",
              "</style>\n",
              "<table border=\"1\" class=\"dataframe\">\n",
              "  <thead>\n",
              "    <tr style=\"text-align: right;\">\n",
              "      <th></th>\n",
              "      <th>season</th>\n",
              "      <th>FFMC</th>\n",
              "      <th>DMC</th>\n",
              "      <th>DC</th>\n",
              "      <th>ISI</th>\n",
              "      <th>temp</th>\n",
              "      <th>RH</th>\n",
              "      <th>wind</th>\n",
              "      <th>rain</th>\n",
              "      <th>area</th>\n",
              "    </tr>\n",
              "  </thead>\n",
              "  <tbody>\n",
              "    <tr>\n",
              "      <th>count</th>\n",
              "      <td>270.000000</td>\n",
              "      <td>270.000000</td>\n",
              "      <td>270.000000</td>\n",
              "      <td>270.000000</td>\n",
              "      <td>270.000000</td>\n",
              "      <td>270.000000</td>\n",
              "      <td>270.000000</td>\n",
              "      <td>270.000000</td>\n",
              "      <td>270.000000</td>\n",
              "      <td>270.000000</td>\n",
              "    </tr>\n",
              "    <tr>\n",
              "      <th>mean</th>\n",
              "      <td>2.429630</td>\n",
              "      <td>91.034074</td>\n",
              "      <td>114.707778</td>\n",
              "      <td>570.867037</td>\n",
              "      <td>9.177037</td>\n",
              "      <td>19.311111</td>\n",
              "      <td>43.733333</td>\n",
              "      <td>4.112963</td>\n",
              "      <td>0.028889</td>\n",
              "      <td>24.600185</td>\n",
              "    </tr>\n",
              "    <tr>\n",
              "      <th>std</th>\n",
              "      <td>0.752105</td>\n",
              "      <td>3.709020</td>\n",
              "      <td>61.786520</td>\n",
              "      <td>229.981242</td>\n",
              "      <td>4.147350</td>\n",
              "      <td>6.179444</td>\n",
              "      <td>15.080059</td>\n",
              "      <td>1.884573</td>\n",
              "      <td>0.398392</td>\n",
              "      <td>86.501635</td>\n",
              "    </tr>\n",
              "    <tr>\n",
              "      <th>min</th>\n",
              "      <td>1.000000</td>\n",
              "      <td>63.500000</td>\n",
              "      <td>3.200000</td>\n",
              "      <td>15.300000</td>\n",
              "      <td>0.800000</td>\n",
              "      <td>2.200000</td>\n",
              "      <td>15.000000</td>\n",
              "      <td>0.400000</td>\n",
              "      <td>0.000000</td>\n",
              "      <td>0.090000</td>\n",
              "    </tr>\n",
              "    <tr>\n",
              "      <th>25%</th>\n",
              "      <td>2.000000</td>\n",
              "      <td>90.325000</td>\n",
              "      <td>82.900000</td>\n",
              "      <td>486.500000</td>\n",
              "      <td>6.800000</td>\n",
              "      <td>16.125000</td>\n",
              "      <td>33.000000</td>\n",
              "      <td>2.700000</td>\n",
              "      <td>0.000000</td>\n",
              "      <td>2.140000</td>\n",
              "    </tr>\n",
              "    <tr>\n",
              "      <th>50%</th>\n",
              "      <td>2.000000</td>\n",
              "      <td>91.700000</td>\n",
              "      <td>111.700000</td>\n",
              "      <td>665.600000</td>\n",
              "      <td>8.400000</td>\n",
              "      <td>20.100000</td>\n",
              "      <td>41.000000</td>\n",
              "      <td>4.000000</td>\n",
              "      <td>0.000000</td>\n",
              "      <td>6.370000</td>\n",
              "    </tr>\n",
              "    <tr>\n",
              "      <th>75%</th>\n",
              "      <td>3.000000</td>\n",
              "      <td>92.975000</td>\n",
              "      <td>141.300000</td>\n",
              "      <td>721.325000</td>\n",
              "      <td>11.375000</td>\n",
              "      <td>23.400000</td>\n",
              "      <td>53.000000</td>\n",
              "      <td>4.900000</td>\n",
              "      <td>0.000000</td>\n",
              "      <td>15.422500</td>\n",
              "    </tr>\n",
              "    <tr>\n",
              "      <th>max</th>\n",
              "      <td>4.000000</td>\n",
              "      <td>96.200000</td>\n",
              "      <td>291.300000</td>\n",
              "      <td>860.600000</td>\n",
              "      <td>22.700000</td>\n",
              "      <td>33.300000</td>\n",
              "      <td>96.000000</td>\n",
              "      <td>9.400000</td>\n",
              "      <td>6.400000</td>\n",
              "      <td>1090.840000</td>\n",
              "    </tr>\n",
              "  </tbody>\n",
              "</table>\n",
              "</div>"
            ],
            "text/plain": [
              "           season        FFMC         DMC  ...        wind        rain         area\n",
              "count  270.000000  270.000000  270.000000  ...  270.000000  270.000000   270.000000\n",
              "mean     2.429630   91.034074  114.707778  ...    4.112963    0.028889    24.600185\n",
              "std      0.752105    3.709020   61.786520  ...    1.884573    0.398392    86.501635\n",
              "min      1.000000   63.500000    3.200000  ...    0.400000    0.000000     0.090000\n",
              "25%      2.000000   90.325000   82.900000  ...    2.700000    0.000000     2.140000\n",
              "50%      2.000000   91.700000  111.700000  ...    4.000000    0.000000     6.370000\n",
              "75%      3.000000   92.975000  141.300000  ...    4.900000    0.000000    15.422500\n",
              "max      4.000000   96.200000  291.300000  ...    9.400000    6.400000  1090.840000\n",
              "\n",
              "[8 rows x 10 columns]"
            ]
          },
          "metadata": {
            "tags": []
          },
          "execution_count": 79
        }
      ]
    },
    {
      "cell_type": "code",
      "metadata": {
        "id": "1nZmTd9Kmwyc"
      },
      "source": [
        "# Seperate all the attributes\n",
        "FFMC = data.iloc[:,1].values\n",
        "DMC = data.iloc[:,2].values\n",
        "DC = data.iloc[:,3].values\n",
        "ISI = data.iloc[:,4].values\n",
        "temp = data.iloc[:,5].values\n",
        "RH = data.iloc[:,6].values\n",
        "wind = data.iloc[:,7].values\n",
        "rain = data.iloc[:,8].values"
      ],
      "execution_count": null,
      "outputs": []
    },
    {
      "cell_type": "code",
      "metadata": {
        "colab": {
          "base_uri": "https://localhost:8080/",
          "height": 279
        },
        "id": "IVHSY-yWWhHm",
        "outputId": "e76c13d3-bca6-430e-c14c-f68868e8a837"
      },
      "source": [
        "# Plot the output distribution\n",
        "Y = area.values\n",
        "plt.figure()\n",
        "plt.hist(Y)\n",
        "plt.xlabel('Burned area (hectare)')\n",
        "plt.ylabel('Frequency')\n",
        "plt.show()"
      ],
      "execution_count": null,
      "outputs": [
        {
          "output_type": "display_data",
          "data": {
            "image/png": "[encoded data removed]",
            "text/plain": [
              "<Figure size 432x288 with 1 Axes>"
            ]
          },
          "metadata": {
            "tags": [],
            "needs_background": "light"
          }
        }
      ]
    },
    {
      "cell_type": "markdown",
      "metadata": {
        "id": "lPFY-mHL0_Vo"
      },
      "source": [
        "Since the histogram shown above indicates that the frequency is highly skewed to right, the dataset could be applied with logrithm and fit with Gaussian distribution. Then the log data will be used for training a model. "
      ]
    },
    {
      "cell_type": "code",
      "metadata": {
        "id": "rx-jkUZ_YkyE"
      },
      "source": [
        "log_area = np.log10(Y)"
      ],
      "execution_count": null,
      "outputs": []
    },
    {
      "cell_type": "code",
      "metadata": {
        "id": "n67gzweUQDz2"
      },
      "source": [
        "from scipy.stats import norm\n",
        "mu, std = norm.fit(log_area)\n",
        "xx = np.linspace(log_area.min(), log_area.max(), 500)\n",
        "p = norm.pdf(xx, mu, std)"
      ],
      "execution_count": null,
      "outputs": []
    },
    {
      "cell_type": "code",
      "metadata": {
        "colab": {
          "base_uri": "https://localhost:8080/",
          "height": 279
        },
        "id": "LShzrLYsN9Jp",
        "outputId": "4a05ab6e-e7fd-4563-aabe-35644c65eea9"
      },
      "source": [
        "plt.figure()\n",
        "plt.hist(log_area, density=True)\n",
        "plt.plot(xx, p, 'r', linewidth=2)\n",
        "plt.xlabel('Burned area (hectare)')\n",
        "plt.ylabel('Density')\n",
        "plt.show()"
      ],
      "execution_count": null,
      "outputs": [
        {
          "output_type": "display_data",
          "data": {
            "image/png": "[encoded data removed]",
            "text/plain": [
              "<Figure size 432x288 with 1 Axes>"
            ]
          },
          "metadata": {
            "tags": [],
            "needs_background": "light"
          }
        }
      ]
    },
    {
      "cell_type": "code",
      "metadata": {
        "colab": {
          "base_uri": "https://localhost:8080/",
          "height": 1000
        },
        "id": "PvS_YyKhXB54",
        "outputId": "7b55644a-f5eb-4bea-8320-68f9d12fd4cf"
      },
      "source": [
        "# Plot the distribution of all attributes\n",
        "plt.figure(1)\n",
        "plt.hist(FFMC)\n",
        "plt.xlabel('Fine Fuel Moisture Code')\n",
        "plt.ylabel('Frequency')\n",
        "plt.show()\n",
        "\n",
        "plt.figure(2)\n",
        "plt.hist(DMC)\n",
        "plt.xlabel('Duff Moisture Code')\n",
        "plt.ylabel('Frequency')\n",
        "plt.show()\n",
        "\n",
        "plt.figure(3)\n",
        "plt.hist(DC)\n",
        "plt.xlabel('Drought Code')\n",
        "plt.ylabel('Frequency')\n",
        "plt.show()\n",
        "\n",
        "plt.figure(4)\n",
        "plt.hist(ISI)\n",
        "plt.xlabel('Initial spread index')\n",
        "plt.ylabel('Frequency')\n",
        "plt.show()\n",
        "\n",
        "plt.figure(5)\n",
        "plt.hist(temp)\n",
        "plt.xlabel('Temperature (Celsius)')\n",
        "plt.ylabel('Frequency')\n",
        "plt.show()\n",
        "\n",
        "plt.figure(6)\n",
        "plt.hist(RH)\n",
        "plt.xlabel('Relative humidity (%)')\n",
        "plt.ylabel('Frequency')\n",
        "plt.show()\n",
        "\n",
        "plt.figure(7)\n",
        "plt.hist(wind)\n",
        "plt.xlabel('Wind (km/h)')\n",
        "plt.ylabel('Frequency')\n",
        "plt.show()\n",
        "\n",
        "plt.figure(8)\n",
        "plt.hist(rain)\n",
        "plt.xlabel('Wind (km/h)')\n",
        "plt.ylabel('Frequency')\n",
        "plt.show()"
      ],
      "execution_count": null,
      "outputs": [
        {
          "output_type": "display_data",
          "data": {
            "image/png": "[encoded data removed]",
            "text/plain": [
              "<Figure size 432x288 with 1 Axes>"
            ]
          },
          "metadata": {
            "tags": [],
            "needs_background": "light"
          }
        },
        {
          "output_type": "display_data",
          "data": {
            "image/png": "[encoded data removed]",
            "text/plain": [
              "<Figure size 432x288 with 1 Axes>"
            ]
          },
          "metadata": {
            "tags": [],
            "needs_background": "light"
          }
        },
        {
          "output_type": "display_data",
          "data": {
            "image/png": "[encoded data removed]",
            "text/plain": [
              "<Figure size 432x288 with 1 Axes>"
            ]
          },
          "metadata": {
            "tags": [],
            "needs_background": "light"
          }
        },
        {
          "output_type": "display_data",
          "data": {
            "image/png": "[encoded data removed]",
            "text/plain": [
              "<Figure size 432x288 with 1 Axes>"
            ]
          },
          "metadata": {
            "tags": [],
            "needs_background": "light"
          }
        },
        {
          "output_type": "display_data",
          "data": {
            "image/png": "[encoded data removed]",
            "text/plain": [
              "<Figure size 432x288 with 1 Axes>"
            ]
          },
          "metadata": {
            "tags": [],
            "needs_background": "light"
          }
        },
        {
          "output_type": "display_data",
          "data": {
            "image/png": "[encoded data removed]",
            "text/plain": [
              "<Figure size 432x288 with 1 Axes>"
            ]
          },
          "metadata": {
            "tags": [],
            "needs_background": "light"
          }
        },
        {
          "output_type": "display_data",
          "data": {
            "image/png": "[encoded data removed]",
            "text/plain": [
              "<Figure size 432x288 with 1 Axes>"
            ]
          },
          "metadata": {
            "tags": [],
            "needs_background": "light"
          }
        },
        {
          "output_type": "display_data",
          "data": {
            "image/png": "[encoded data removed]",
            "text/plain": [
              "<Figure size 432x288 with 1 Axes>"
            ]
          },
          "metadata": {
            "tags": [],
            "needs_background": "light"
          }
        }
      ]
    },
    {
      "cell_type": "markdown",
      "metadata": {
        "id": "xKAJ3xRvaIpO"
      },
      "source": [
        "The data ranges varies a lot among all the inputs, therefore the dataset needs to be standarized before feeding into the training model. "
      ]
    },
    {
      "cell_type": "code",
      "metadata": {
        "id": "McZwxVOaocSC",
        "colab": {
          "base_uri": "https://localhost:8080/",
          "height": 1000
        },
        "outputId": "29f89318-dc62-4935-e9e6-5ea4e762da14"
      },
      "source": [
        "# Plot all the attributes vs. output(Burned area) to check the correlation\n",
        "plt.figure(1)\n",
        "plt.scatter(FFMC, Y)\n",
        "plt.ylim(0,100)\n",
        "plt.xlim(86,95)\n",
        "plt.xlabel('Fine Fuel Moisture Code')\n",
        "plt.ylabel('Burned area')\n",
        "plt.show()\n",
        "\n",
        "plt.figure(2)\n",
        "plt.scatter(DMC, Y)\n",
        "plt.ylim(0,100)\n",
        "plt.xlabel('Duff Moisture Code')\n",
        "plt.ylabel('Burned area')\n",
        "plt.show()\n",
        "\n",
        "plt.figure(3)\n",
        "plt.scatter(DC, Y)\n",
        "plt.ylim(0,100)\n",
        "plt.xlabel('Drought Code')\n",
        "plt.ylabel('Burned area')\n",
        "plt.show()\n",
        "\n",
        "plt.figure(4)\n",
        "plt.scatter(ISI, Y)\n",
        "plt.ylim(0,100)\n",
        "plt.xlabel('Initial spread index')\n",
        "plt.ylabel('Burned area')\n",
        "plt.show()\n",
        "\n",
        "plt.figure(5)\n",
        "plt.scatter(temp, Y)\n",
        "plt.ylim(0,100)\n",
        "plt.xlabel('Temperature (Celsius)')\n",
        "plt.ylabel('Burned area')\n",
        "plt.show()\n",
        "\n",
        "plt.figure(6)\n",
        "plt.scatter(RH, Y)\n",
        "plt.ylim(0,100)\n",
        "plt.xlabel('Relative humidity (%)')\n",
        "plt.ylabel('Burned area')\n",
        "plt.show()\n",
        "\n",
        "plt.figure(7)\n",
        "plt.scatter(wind, Y)\n",
        "plt.ylim(0,100)\n",
        "plt.xlabel('Wind (km/h)')\n",
        "plt.ylabel('Burned area')\n",
        "plt.show()\n",
        "\n",
        "plt.figure(8)\n",
        "plt.scatter(rain, Y)\n",
        "plt.ylim(0,100)\n",
        "plt.xlabel('Rain (mm/m^2)')\n",
        "plt.ylabel('Burned area')\n",
        "plt.show()"
      ],
      "execution_count": null,
      "outputs": [
        {
          "output_type": "display_data",
          "data": {
            "image/png": "[encoded data removed]",
            "text/plain": [
              "<Figure size 432x288 with 1 Axes>"
            ]
          },
          "metadata": {
            "tags": [],
            "needs_background": "light"
          }
        },
        {
          "output_type": "display_data",
          "data": {
            "image/png": "[encoded data removed]",
            "text/plain": [
              "<Figure size 432x288 with 1 Axes>"
            ]
          },
          "metadata": {
            "tags": [],
            "needs_background": "light"
          }
        },
        {
          "output_type": "display_data",
          "data": {
            "image/png": "[encoded data removed]",
            "text/plain": [
              "<Figure size 432x288 with 1 Axes>"
            ]
          },
          "metadata": {
            "tags": [],
            "needs_background": "light"
          }
        },
        {
          "output_type": "display_data",
          "data": {
            "image/png": "[encoded data removed]",
            "text/plain": [
              "<Figure size 432x288 with 1 Axes>"
            ]
          },
          "metadata": {
            "tags": [],
            "needs_background": "light"
          }
        },
        {
          "output_type": "display_data",
          "data": {
            "image/png": "[encoded data removed]",
            "text/plain": [
              "<Figure size 432x288 with 1 Axes>"
            ]
          },
          "metadata": {
            "tags": [],
            "needs_background": "light"
          }
        },
        {
          "output_type": "display_data",
          "data": {
            "image/png": "[encoded data removed]",
            "text/plain": [
              "<Figure size 432x288 with 1 Axes>"
            ]
          },
          "metadata": {
            "tags": [],
            "needs_background": "light"
          }
        },
        {
          "output_type": "display_data",
          "data": {
            "image/png": "[encoded data removed]",
            "text/plain": [
              "<Figure size 432x288 with 1 Axes>"
            ]
          },
          "metadata": {
            "tags": [],
            "needs_background": "light"
          }
        },
        {
          "output_type": "display_data",
          "data": {
            "image/png": "[encoded data removed]",
            "text/plain": [
              "<Figure size 432x288 with 1 Axes>"
            ]
          },
          "metadata": {
            "tags": [],
            "needs_background": "light"
          }
        }
      ]
    },
    {
      "cell_type": "code",
      "metadata": {
        "id": "2OwN4uPQkbwP"
      },
      "source": [
        "# Data cleaning - Remove all the outliers in the dataset\n",
        "from scipy.stats import iqr\n",
        "for i in range(1,9):\n",
        "  Q1 = np.quantile(data.iloc[:,i],0.25)\n",
        "  Q3 = np.quantile(data.iloc[:,i],0.75)\n",
        "  low_lim = Q1 - 1.5*iqr(data.iloc[:,i])\n",
        "  up_lim = Q3 + 1.5*iqr(data.iloc[:,i])\n",
        "  data.iloc[:,i].loc[data.iloc[:,i] < low_lim] = float(\"NaN\")\n",
        "  data.iloc[:,i].loc[data.iloc[:,i] > up_lim] = float(\"NaN\")\n"
      ],
      "execution_count": null,
      "outputs": []
    },
    {
      "cell_type": "code",
      "metadata": {
        "id": "j5vzDmb0yZTq"
      },
      "source": [
        "# Drop all the NaN values\n",
        "data = data.dropna()"
      ],
      "execution_count": null,
      "outputs": []
    },
    {
      "cell_type": "code",
      "metadata": {
        "id": "lZs2L7R-Wso2",
        "colab": {
          "base_uri": "https://localhost:8080/"
        },
        "outputId": "ba1e359e-fc30-4aef-b01f-841722eac6ee"
      },
      "source": [
        "# Get input dataset\n",
        "X = data.iloc[:,0:-1].values\n",
        "print(X.shape)"
      ],
      "execution_count": null,
      "outputs": [
        {
          "output_type": "stream",
          "text": [
            "(190, 9)\n"
          ],
          "name": "stdout"
        }
      ]
    },
    {
      "cell_type": "code",
      "metadata": {
        "id": "nFx-Yw_Sb47v"
      },
      "source": [
        "# Data cleaning - Standarize the input data\n",
        "from sklearn import preprocessing\n",
        "X_standardized = preprocessing.scale(X)"
      ],
      "execution_count": null,
      "outputs": []
    },
    {
      "cell_type": "code",
      "metadata": {
        "colab": {
          "base_uri": "https://localhost:8080/"
        },
        "id": "DcM9nsKcC-Iw",
        "outputId": "c706e7fc-65a8-4446-9a2c-3b9ad32a501c"
      },
      "source": [
        "# Get output dataset\n",
        "Y = data.iloc[:,-1].values\n",
        "print(Y.shape)"
      ],
      "execution_count": null,
      "outputs": [
        {
          "output_type": "stream",
          "text": [
            "(190,)\n"
          ],
          "name": "stdout"
        }
      ]
    },
    {
      "cell_type": "markdown",
      "metadata": {
        "id": "NdVkZcUuKRva"
      },
      "source": [
        "<br><br>\n",
        "## Regression"
      ]
    },
    {
      "cell_type": "markdown",
      "metadata": {
        "id": "UzEpphP7-8ok"
      },
      "source": [
        "## Multiple Regression "
      ]
    },
    {
      "cell_type": "code",
      "metadata": {
        "colab": {
          "base_uri": "https://localhost:8080/",
          "height": 324
        },
        "id": "M7Z35bot-8ok",
        "outputId": "6b88e26d-2cbd-4f65-b978-26249c5b5483"
      },
      "source": [
        "#check multicoolinearity in the X dataset \n",
        "plt.figure(figsize=(6,5))  # set the size of the figure \n",
        "p=sns.heatmap(attributes.corr(), annot=True,cmap ='RdYlGn')"
      ],
      "execution_count": null,
      "outputs": [
        {
          "output_type": "display_data",
          "data": {
            "image/png": "[encoded data removed]",
            "text/plain": [
              "<Figure size 432x360 with 2 Axes>"
            ]
          },
          "metadata": {
            "tags": [],
            "needs_background": "light"
          }
        }
      ]
    },
    {
      "cell_type": "markdown",
      "metadata": {
        "id": "cl4rqnur-8ok"
      },
      "source": [
        "There is no multicolinearity issue in the matrix.  "
      ]
    },
    {
      "cell_type": "code",
      "metadata": {
        "colab": {
          "base_uri": "https://localhost:8080/"
        },
        "id": "PZH_dxWG-8ok",
        "outputId": "8801bfd0-8763-439d-811b-0a2d108d7bd8"
      },
      "source": [
        "from sklearn.model_selection import train_test_split\n",
        "# Test data will be 20% of the total data\n",
        "X_train, X_test, Y_train, Y_test = train_test_split(X_standardized, Y, test_size=0.3,shuffle=False,random_state=1)  \n",
        "train_samples=len(X_train)\n",
        "test_samples=len(X_test)\n",
        "print('Train sample size:',format(train_samples))\n",
        "print('Test sample size:',format(test_samples))\n"
      ],
      "execution_count": null,
      "outputs": [
        {
          "output_type": "stream",
          "text": [
            "Train sample size: 133\n",
            "Test sample size: 57\n"
          ],
          "name": "stdout"
        }
      ]
    },
    {
      "cell_type": "code",
      "metadata": {
        "colab": {
          "base_uri": "https://localhost:8080/"
        },
        "id": "LVQwYZdQ-8ok",
        "outputId": "82e9699c-5b9a-4ef1-f2bb-7050edb20602"
      },
      "source": [
        "from sklearn.linear_model import LinearRegression ## import linear regression function\n",
        "mul_reg = LinearRegression(copy_X=False)    #define an instance of the LinearRegression class. \n",
        "\n",
        "mul_reg.fit(X_train, Y_train)#fit the X and Y datapoints to the model\n",
        "\n",
        "slope=mul_reg.coef_  ## slope \n",
        "print(slope)\n",
        "Intercept=mul_reg.intercept_\n",
        "print(Intercept)\n",
        "\n",
        "Y_pred=mul_reg.predict(X_train)     #predict the output using the fitted model\n"
      ],
      "execution_count": null,
      "outputs": [
        {
          "output_type": "stream",
          "text": [
            "[ 0.36122795 -0.00145301  0.17015169 -0.24955171 -0.01320093 -0.15182843\n",
            " -0.13578945  0.03096325  0.        ]\n",
            "0.6888524228443528\n"
          ],
          "name": "stdout"
        }
      ]
    },
    {
      "cell_type": "markdown",
      "metadata": {
        "id": "e14Bb1QI-8ol"
      },
      "source": [
        "#### Model Evaluation"
      ]
    },
    {
      "cell_type": "code",
      "metadata": {
        "colab": {
          "base_uri": "https://localhost:8080/"
        },
        "id": "4KcOFUwP-8ol",
        "outputId": "258ff21f-b908-4bff-fb0d-b41541a79692"
      },
      "source": [
        "#evaluation metrics- We will use the R2 value to evaluate the performanc e of the trained model.\n",
        "from sklearn.metrics import r2_score\n",
        "r2_score(Y_train, Y_pred)"
      ],
      "execution_count": null,
      "outputs": [
        {
          "output_type": "execute_result",
          "data": {
            "text/plain": [
              "0.1548770976150664"
            ]
          },
          "metadata": {
            "tags": []
          },
          "execution_count": 729
        }
      ]
    },
    {
      "cell_type": "code",
      "metadata": {
        "id": "ZXdo79re-8ol"
      },
      "source": [
        "Y_hat_val= mul_reg.predict(X_test) # pass the test data for the independent variable and calculate the response using the trained model"
      ],
      "execution_count": null,
      "outputs": []
    },
    {
      "cell_type": "markdown",
      "metadata": {
        "id": "wnx8x76r-8ol"
      },
      "source": [
        "#### Model Validation  "
      ]
    },
    {
      "cell_type": "code",
      "metadata": {
        "colab": {
          "base_uri": "https://localhost:8080/"
        },
        "id": "yv2all7c-8ol",
        "outputId": "e1e6a1d8-07f9-41de-ed6e-198f2eff55cd"
      },
      "source": [
        "#the cost function used is the Mean Square Error\n",
        "cost_train=np.mean((Y_train-Y_pred)**2)/train_samples # Training loss (i.e., MSE) calculation\n",
        "print(\"Training loss: \",cost_train)\n",
        "\n",
        "cost_val=np.mean((Y_test-Y_hat_val)**2)/test_samples  # Validation loss (i.e., MSE) calculation\n",
        "print(\"Validation Loss:\",cost_val)"
      ],
      "execution_count": null,
      "outputs": [
        {
          "output_type": "stream",
          "text": [
            "Training loss:  0.0031223198283404823\n",
            "Validation Loss: 0.010384438840958254\n"
          ],
          "name": "stdout"
        }
      ]
    },
    {
      "cell_type": "markdown",
      "metadata": {
        "id": "W_XBWs2K8chO"
      },
      "source": [
        "## Support vector regression"
      ]
    },
    {
      "cell_type": "code",
      "metadata": {
        "id": "uGYQ-Wr8Xu-S"
      },
      "source": [
        "# Split the dataset\n",
        "from sklearn.model_selection import train_test_split\n",
        "trainX, testX, trainY, testY = train_test_split(X, Y, test_size=0.1, shuffle=True, random_state=42)"
      ],
      "execution_count": null,
      "outputs": []
    },
    {
      "cell_type": "code",
      "metadata": {
        "colab": {
          "base_uri": "https://localhost:8080/"
        },
        "id": "UZZfjDWIcWtE",
        "outputId": "0c8e230d-19e2-4b57-84e1-1a867d41c0bc"
      },
      "source": [
        "# Scale the input and train the data with Support Vector Regression\n",
        "from sklearn.pipeline import make_pipeline\n",
        "from sklearn.preprocessing import StandardScaler\n",
        "from sklearn import svm\n",
        "SVR_model = make_pipeline(StandardScaler(), svm.SVR(kernel='linear',C=2.6,epsilon=0.1,max_iter=4000))\n",
        "SVR_model.fit(trainX, trainY)"
      ],
      "execution_count": null,
      "outputs": [
        {
          "output_type": "stream",
          "text": [
            "/usr/local/lib/python3.6/dist-packages/sklearn/svm/_base.py:231: ConvergenceWarning: Solver terminated early (max_iter=4000).  Consider pre-processing your data with StandardScaler or MinMaxScaler.\n",
            "  % self.max_iter, ConvergenceWarning)\n"
          ],
          "name": "stderr"
        },
        {
          "output_type": "execute_result",
          "data": {
            "text/plain": [
              "Pipeline(memory=None,\n",
              "         steps=[('standardscaler',\n",
              "                 StandardScaler(copy=True, with_mean=True, with_std=True)),\n",
              "                ('svr',\n",
              "                 SVR(C=2.6, cache_size=200, coef0=0.0, degree=3, epsilon=0.1,\n",
              "                     gamma='scale', kernel='linear', max_iter=4000,\n",
              "                     shrinking=True, tol=0.001, verbose=False))],\n",
              "         verbose=False)"
            ]
          },
          "metadata": {
            "tags": []
          },
          "execution_count": 102
        }
      ]
    },
    {
      "cell_type": "code",
      "metadata": {
        "colab": {
          "base_uri": "https://localhost:8080/"
        },
        "id": "7nQHaOr-cigZ",
        "outputId": "ff918533-d97c-4147-ea2e-534a0336749d"
      },
      "source": [
        "print('The R_2 value of predicted test data set wrt to testY:',format(SVR_model.score(testX,testY)))"
      ],
      "execution_count": null,
      "outputs": [
        {
          "output_type": "stream",
          "text": [
            "The R_2 value of predicted test data set wrt to testY: 0.2564626955503797\n"
          ],
          "name": "stdout"
        }
      ]
    },
    {
      "cell_type": "code",
      "metadata": {
        "id": "M62z8uXJ2fwP"
      },
      "source": [
        "# Predict with training dataset and testing dataset\n",
        "train_pred = SVR_model.predict(trainX)\n",
        "test_pred = SVR_model.predict(testX)"
      ],
      "execution_count": null,
      "outputs": []
    },
    {
      "cell_type": "code",
      "metadata": {
        "colab": {
          "base_uri": "https://localhost:8080/"
        },
        "id": "1kA5MXLM2RtK",
        "outputId": "1aaeb3fa-6da6-45cd-91b4-ae822a41eee1"
      },
      "source": [
        "# The cost function used is the Mean Square Error\n",
        "cost_train = np.mean((trainY-train_pred)**2)/len(trainX)\n",
        "print(\"Training loss: \",cost_train)\n",
        "cost_val = np.mean((testY-test_pred)**2)/len(testX)\n",
        "print(\"Validation Loss:\",cost_val)"
      ],
      "execution_count": null,
      "outputs": [
        {
          "output_type": "stream",
          "text": [
            "Training loss:  0.002701027859379184\n",
            "Validation Loss: 0.017171349502031977\n"
          ],
          "name": "stdout"
        }
      ]
    },
    {
      "cell_type": "markdown",
      "metadata": {
        "id": "QIO9YcYD8L1s"
      },
      "source": [
        "\n",
        "\n",
        "\n",
        "## ANN(Artificial neural network) model"
      ]
    },
    {
      "cell_type": "code",
      "metadata": {
        "id": "tKlMeZ_10DKm"
      },
      "source": [
        "# Split the dataset for training the ANN model\n",
        "from sklearn.model_selection import train_test_split\n",
        "trainX, testX, trainY, testY = train_test_split(X_standardized, Y, test_size=0.1, shuffle=True, random_state=42)"
      ],
      "execution_count": null,
      "outputs": []
    },
    {
      "cell_type": "code",
      "metadata": {
        "id": "2R992wRd1O8g",
        "colab": {
          "base_uri": "https://localhost:8080/"
        },
        "outputId": "ee6c003c-cc99-4c7c-b8ec-b3d12d173278"
      },
      "source": [
        "# Define the ANN model\n",
        "ANN_model = tf.keras.models.Sequential()  # create a sequential pipeline\n",
        "ANN_model.add(tf.keras.layers.Flatten())  # add a Flatten layer                                                    \n",
        "\n",
        "tf.keras.layers.Dropout(0.2, noise_shape=(1,1), seed=1)\n",
        "# Output layer\n",
        "ANN_model.add(tf.keras.layers.Dense(units=1, use_bias=True,\n",
        "                                    kernel_initializer=tf.keras.initializers.random_normal(seed=0), \n",
        "                                    kernel_regularizer=tf.keras.regularizers.l1(0.01),\n",
        "                                    activity_regularizer=tf.keras.regularizers.L2(0.01),\n",
        "                                    activation = tf.nn.leaky_relu))  \n",
        "\n",
        "# Define the optimizer and loss function\n",
        "ANN_model.compile(optimizer = tf.optimizers.SGD(learning_rate=0.02, momentum=0.1), loss = 'mean_squared_error')  \n",
        "\n",
        "# Run the training loop to fit the data\n",
        "history = ANN_model.fit(trainX, trainY, batch_size = 50, epochs = 500, validation_data=(testX,testY))"
      ],
      "execution_count": null,
      "outputs": [
        {
          "output_type": "stream",
          "text": [
            "Epoch 1/500\n",
            "4/4 [==============================] - 0s 35ms/step - loss: 12125.9863 - val_loss: 952.9103\n",
            "Epoch 2/500\n",
            "4/4 [==============================] - 0s 6ms/step - loss: 11525.0654 - val_loss: 866.2361\n",
            "Epoch 3/500\n",
            "4/4 [==============================] - 0s 5ms/step - loss: 11363.3408 - val_loss: 798.7949\n",
            "Epoch 4/500\n",
            "4/4 [==============================] - 0s 6ms/step - loss: 11256.7588 - val_loss: 744.6306\n",
            "Epoch 5/500\n",
            "4/4 [==============================] - 0s 5ms/step - loss: 11158.8115 - val_loss: 716.7502\n",
            "Epoch 6/500\n",
            "4/4 [==============================] - 0s 5ms/step - loss: 11090.5225 - val_loss: 698.8897\n",
            "Epoch 7/500\n",
            "4/4 [==============================] - 0s 6ms/step - loss: 11062.6318 - val_loss: 677.1445\n",
            "Epoch 8/500\n",
            "4/4 [==============================] - 0s 6ms/step - loss: 11004.9180 - val_loss: 656.8201\n",
            "Epoch 9/500\n",
            "4/4 [==============================] - 0s 5ms/step - loss: 10956.8525 - val_loss: 649.5076\n",
            "Epoch 10/500\n",
            "4/4 [==============================] - 0s 5ms/step - loss: 10929.3057 - val_loss: 645.7521\n",
            "Epoch 11/500\n",
            "4/4 [==============================] - 0s 5ms/step - loss: 10918.4111 - val_loss: 647.0615\n",
            "Epoch 12/500\n",
            "4/4 [==============================] - 0s 5ms/step - loss: 10877.0205 - val_loss: 635.0368\n",
            "Epoch 13/500\n",
            "4/4 [==============================] - 0s 5ms/step - loss: 10859.9902 - val_loss: 632.8624\n",
            "Epoch 14/500\n",
            "4/4 [==============================] - 0s 6ms/step - loss: 10837.9062 - val_loss: 630.0012\n",
            "Epoch 15/500\n",
            "4/4 [==============================] - 0s 5ms/step - loss: 10834.1074 - val_loss: 633.1988\n",
            "Epoch 16/500\n",
            "4/4 [==============================] - 0s 6ms/step - loss: 10805.7949 - val_loss: 626.4397\n",
            "Epoch 17/500\n",
            "4/4 [==============================] - 0s 5ms/step - loss: 10809.8730 - val_loss: 627.8041\n",
            "Epoch 18/500\n",
            "4/4 [==============================] - 0s 5ms/step - loss: 10785.8662 - val_loss: 631.6135\n",
            "Epoch 19/500\n",
            "4/4 [==============================] - 0s 5ms/step - loss: 10786.2412 - val_loss: 636.1433\n",
            "Epoch 20/500\n",
            "4/4 [==============================] - 0s 5ms/step - loss: 10799.6211 - val_loss: 642.8973\n",
            "Epoch 21/500\n",
            "4/4 [==============================] - 0s 5ms/step - loss: 10757.5166 - val_loss: 645.4491\n",
            "Epoch 22/500\n",
            "4/4 [==============================] - 0s 5ms/step - loss: 10759.2422 - val_loss: 641.3735\n",
            "Epoch 23/500\n",
            "4/4 [==============================] - 0s 5ms/step - loss: 10766.0225 - val_loss: 641.4326\n",
            "Epoch 24/500\n",
            "4/4 [==============================] - 0s 6ms/step - loss: 10737.5801 - val_loss: 639.8839\n",
            "Epoch 25/500\n",
            "4/4 [==============================] - 0s 7ms/step - loss: 10727.4785 - val_loss: 627.1437\n",
            "Epoch 26/500\n",
            "4/4 [==============================] - 0s 5ms/step - loss: 10725.4785 - val_loss: 623.6096\n",
            "Epoch 27/500\n",
            "4/4 [==============================] - 0s 5ms/step - loss: 10703.3438 - val_loss: 620.6623\n",
            "Epoch 28/500\n",
            "4/4 [==============================] - 0s 5ms/step - loss: 10696.9014 - val_loss: 615.4030\n",
            "Epoch 29/500\n",
            "4/4 [==============================] - 0s 5ms/step - loss: 10695.4512 - val_loss: 610.8869\n",
            "Epoch 30/500\n",
            "4/4 [==============================] - 0s 6ms/step - loss: 10722.4287 - val_loss: 648.0225\n",
            "Epoch 31/500\n",
            "4/4 [==============================] - 0s 6ms/step - loss: 10686.9209 - val_loss: 656.6638\n",
            "Epoch 32/500\n",
            "4/4 [==============================] - 0s 6ms/step - loss: 10689.1680 - val_loss: 641.8232\n",
            "Epoch 33/500\n",
            "4/4 [==============================] - 0s 7ms/step - loss: 10670.6016 - val_loss: 630.9562\n",
            "Epoch 34/500\n",
            "4/4 [==============================] - 0s 6ms/step - loss: 10693.7773 - val_loss: 628.0822\n",
            "Epoch 35/500\n",
            "4/4 [==============================] - 0s 5ms/step - loss: 10671.4043 - val_loss: 648.1183\n",
            "Epoch 36/500\n",
            "4/4 [==============================] - 0s 5ms/step - loss: 10628.1211 - val_loss: 638.8616\n",
            "Epoch 37/500\n",
            "4/4 [==============================] - 0s 9ms/step - loss: 10634.6211 - val_loss: 616.6429\n",
            "Epoch 38/500\n",
            "4/4 [==============================] - 0s 6ms/step - loss: 10665.6572 - val_loss: 646.8546\n",
            "Epoch 39/500\n",
            "4/4 [==============================] - 0s 7ms/step - loss: 10671.7568 - val_loss: 619.5675\n",
            "Epoch 40/500\n",
            "4/4 [==============================] - 0s 7ms/step - loss: 10638.9609 - val_loss: 598.6683\n",
            "Epoch 41/500\n",
            "4/4 [==============================] - 0s 6ms/step - loss: 10623.1182 - val_loss: 585.5177\n",
            "Epoch 42/500\n",
            "4/4 [==============================] - 0s 6ms/step - loss: 10621.0479 - val_loss: 572.9938\n",
            "Epoch 43/500\n",
            "4/4 [==============================] - 0s 6ms/step - loss: 10654.7178 - val_loss: 572.0045\n",
            "Epoch 44/500\n",
            "4/4 [==============================] - 0s 6ms/step - loss: 10643.1934 - val_loss: 572.1996\n",
            "Epoch 45/500\n",
            "4/4 [==============================] - 0s 6ms/step - loss: 10622.3955 - val_loss: 564.5182\n",
            "Epoch 46/500\n",
            "4/4 [==============================] - 0s 6ms/step - loss: 10639.1279 - val_loss: 564.7022\n",
            "Epoch 47/500\n",
            "4/4 [==============================] - 0s 6ms/step - loss: 10615.5889 - val_loss: 560.3666\n",
            "Epoch 48/500\n",
            "4/4 [==============================] - 0s 6ms/step - loss: 10641.5469 - val_loss: 554.2812\n",
            "Epoch 49/500\n",
            "4/4 [==============================] - 0s 6ms/step - loss: 10644.4336 - val_loss: 556.0398\n",
            "Epoch 50/500\n",
            "4/4 [==============================] - 0s 6ms/step - loss: 10641.8613 - val_loss: 583.0130\n",
            "Epoch 51/500\n",
            "4/4 [==============================] - 0s 6ms/step - loss: 10612.1992 - val_loss: 578.0291\n",
            "Epoch 52/500\n",
            "4/4 [==============================] - 0s 6ms/step - loss: 10611.7764 - val_loss: 615.3516\n",
            "Epoch 53/500\n",
            "4/4 [==============================] - 0s 7ms/step - loss: 10587.4053 - val_loss: 601.5988\n",
            "Epoch 54/500\n",
            "4/4 [==============================] - 0s 7ms/step - loss: 10606.9062 - val_loss: 580.1434\n",
            "Epoch 55/500\n",
            "4/4 [==============================] - 0s 7ms/step - loss: 10585.0293 - val_loss: 571.3606\n",
            "Epoch 56/500\n",
            "4/4 [==============================] - 0s 6ms/step - loss: 10583.9131 - val_loss: 561.6339\n",
            "Epoch 57/500\n",
            "4/4 [==============================] - 0s 6ms/step - loss: 10602.2871 - val_loss: 540.1829\n",
            "Epoch 58/500\n",
            "4/4 [==============================] - 0s 6ms/step - loss: 10585.6445 - val_loss: 533.5682\n",
            "Epoch 59/500\n",
            "4/4 [==============================] - 0s 8ms/step - loss: 10587.1748 - val_loss: 519.2535\n",
            "Epoch 60/500\n",
            "4/4 [==============================] - 0s 7ms/step - loss: 10590.1816 - val_loss: 510.9256\n",
            "Epoch 61/500\n",
            "4/4 [==============================] - 0s 6ms/step - loss: 10580.1006 - val_loss: 551.0902\n",
            "Epoch 62/500\n",
            "4/4 [==============================] - 0s 6ms/step - loss: 10589.1260 - val_loss: 544.9914\n",
            "Epoch 63/500\n",
            "4/4 [==============================] - 0s 6ms/step - loss: 10564.2148 - val_loss: 545.6894\n",
            "Epoch 64/500\n",
            "4/4 [==============================] - 0s 6ms/step - loss: 10600.8594 - val_loss: 530.5246\n",
            "Epoch 65/500\n",
            "4/4 [==============================] - 0s 5ms/step - loss: 10594.9258 - val_loss: 523.5696\n",
            "Epoch 66/500\n",
            "4/4 [==============================] - 0s 6ms/step - loss: 10599.1582 - val_loss: 516.8992\n",
            "Epoch 67/500\n",
            "4/4 [==============================] - 0s 6ms/step - loss: 10573.3359 - val_loss: 517.1780\n",
            "Epoch 68/500\n",
            "4/4 [==============================] - 0s 6ms/step - loss: 10570.7783 - val_loss: 507.4826\n",
            "Epoch 69/500\n",
            "4/4 [==============================] - 0s 5ms/step - loss: 10564.1416 - val_loss: 500.3869\n",
            "Epoch 70/500\n",
            "4/4 [==============================] - 0s 6ms/step - loss: 10570.0186 - val_loss: 500.1189\n",
            "Epoch 71/500\n",
            "4/4 [==============================] - 0s 6ms/step - loss: 10603.4902 - val_loss: 494.3222\n",
            "Epoch 72/500\n",
            "4/4 [==============================] - 0s 8ms/step - loss: 10570.9814 - val_loss: 487.9610\n",
            "Epoch 73/500\n",
            "4/4 [==============================] - 0s 6ms/step - loss: 10582.4102 - val_loss: 486.0309\n",
            "Epoch 74/500\n",
            "4/4 [==============================] - 0s 7ms/step - loss: 10582.9658 - val_loss: 486.1109\n",
            "Epoch 75/500\n",
            "4/4 [==============================] - 0s 6ms/step - loss: 10569.8848 - val_loss: 483.0455\n",
            "Epoch 76/500\n",
            "4/4 [==============================] - 0s 7ms/step - loss: 10592.1582 - val_loss: 484.7603\n",
            "Epoch 77/500\n",
            "4/4 [==============================] - 0s 6ms/step - loss: 10558.0010 - val_loss: 482.4412\n",
            "Epoch 78/500\n",
            "4/4 [==============================] - 0s 6ms/step - loss: 10586.6348 - val_loss: 481.1648\n",
            "Epoch 79/500\n",
            "4/4 [==============================] - 0s 6ms/step - loss: 10591.7412 - val_loss: 478.1002\n",
            "Epoch 80/500\n",
            "4/4 [==============================] - 0s 6ms/step - loss: 10577.1436 - val_loss: 467.7586\n",
            "Epoch 81/500\n",
            "4/4 [==============================] - 0s 6ms/step - loss: 10565.0078 - val_loss: 469.6806\n",
            "Epoch 82/500\n",
            "4/4 [==============================] - 0s 5ms/step - loss: 10562.0742 - val_loss: 467.3356\n",
            "Epoch 83/500\n",
            "4/4 [==============================] - 0s 5ms/step - loss: 10551.1035 - val_loss: 467.1638\n",
            "Epoch 84/500\n",
            "4/4 [==============================] - 0s 5ms/step - loss: 10570.1182 - val_loss: 466.2739\n",
            "Epoch 85/500\n",
            "4/4 [==============================] - 0s 6ms/step - loss: 10560.3408 - val_loss: 464.8142\n",
            "Epoch 86/500\n",
            "4/4 [==============================] - 0s 6ms/step - loss: 10567.2744 - val_loss: 470.8803\n",
            "Epoch 87/500\n",
            "4/4 [==============================] - 0s 6ms/step - loss: 10569.0156 - val_loss: 470.7530\n",
            "Epoch 88/500\n",
            "4/4 [==============================] - 0s 10ms/step - loss: 10540.9922 - val_loss: 478.8849\n",
            "Epoch 89/500\n",
            "4/4 [==============================] - 0s 5ms/step - loss: 10540.6553 - val_loss: 476.3574\n",
            "Epoch 90/500\n",
            "4/4 [==============================] - 0s 6ms/step - loss: 10534.5059 - val_loss: 471.7860\n",
            "Epoch 91/500\n",
            "4/4 [==============================] - 0s 5ms/step - loss: 10559.2568 - val_loss: 510.7720\n",
            "Epoch 92/500\n",
            "4/4 [==============================] - 0s 6ms/step - loss: 10550.8154 - val_loss: 506.2929\n",
            "Epoch 93/500\n",
            "4/4 [==============================] - 0s 6ms/step - loss: 10533.3672 - val_loss: 495.5887\n",
            "Epoch 94/500\n",
            "4/4 [==============================] - 0s 5ms/step - loss: 10546.1426 - val_loss: 501.3839\n",
            "Epoch 95/500\n",
            "4/4 [==============================] - 0s 6ms/step - loss: 10529.6270 - val_loss: 496.3774\n",
            "Epoch 96/500\n",
            "4/4 [==============================] - 0s 5ms/step - loss: 10535.0918 - val_loss: 485.7347\n",
            "Epoch 97/500\n",
            "4/4 [==============================] - 0s 6ms/step - loss: 10522.5889 - val_loss: 470.4469\n",
            "Epoch 98/500\n",
            "4/4 [==============================] - 0s 6ms/step - loss: 10543.5332 - val_loss: 469.7625\n",
            "Epoch 99/500\n",
            "4/4 [==============================] - 0s 6ms/step - loss: 10533.2314 - val_loss: 459.5704\n",
            "Epoch 100/500\n",
            "4/4 [==============================] - 0s 6ms/step - loss: 10541.4199 - val_loss: 494.5526\n",
            "Epoch 101/500\n",
            "4/4 [==============================] - 0s 6ms/step - loss: 10546.1729 - val_loss: 496.7131\n",
            "Epoch 102/500\n",
            "4/4 [==============================] - 0s 6ms/step - loss: 10547.3359 - val_loss: 468.3879\n",
            "Epoch 103/500\n",
            "4/4 [==============================] - 0s 8ms/step - loss: 10546.9473 - val_loss: 468.9164\n",
            "Epoch 104/500\n",
            "4/4 [==============================] - 0s 7ms/step - loss: 10560.3086 - val_loss: 483.9428\n",
            "Epoch 105/500\n",
            "4/4 [==============================] - 0s 6ms/step - loss: 10554.6221 - val_loss: 483.3879\n",
            "Epoch 106/500\n",
            "4/4 [==============================] - 0s 5ms/step - loss: 10554.9004 - val_loss: 486.4662\n",
            "Epoch 107/500\n",
            "4/4 [==============================] - 0s 6ms/step - loss: 10527.4287 - val_loss: 485.0078\n",
            "Epoch 108/500\n",
            "4/4 [==============================] - 0s 6ms/step - loss: 10577.2109 - val_loss: 474.9397\n",
            "Epoch 109/500\n",
            "4/4 [==============================] - 0s 6ms/step - loss: 10547.6719 - val_loss: 498.7759\n",
            "Epoch 110/500\n",
            "4/4 [==============================] - 0s 6ms/step - loss: 10509.4248 - val_loss: 486.4318\n",
            "Epoch 111/500\n",
            "4/4 [==============================] - 0s 5ms/step - loss: 10524.5830 - val_loss: 469.2419\n",
            "Epoch 112/500\n",
            "4/4 [==============================] - 0s 6ms/step - loss: 10532.9248 - val_loss: 464.0930\n",
            "Epoch 113/500\n",
            "4/4 [==============================] - 0s 5ms/step - loss: 10528.3301 - val_loss: 495.8540\n",
            "Epoch 114/500\n",
            "4/4 [==============================] - 0s 5ms/step - loss: 10530.6533 - val_loss: 482.1339\n",
            "Epoch 115/500\n",
            "4/4 [==============================] - 0s 5ms/step - loss: 10533.1631 - val_loss: 515.2952\n",
            "Epoch 116/500\n",
            "4/4 [==============================] - 0s 5ms/step - loss: 10531.5576 - val_loss: 498.5711\n",
            "Epoch 117/500\n",
            "4/4 [==============================] - 0s 6ms/step - loss: 10526.1104 - val_loss: 475.8798\n",
            "Epoch 118/500\n",
            "4/4 [==============================] - 0s 7ms/step - loss: 10512.2168 - val_loss: 473.7146\n",
            "Epoch 119/500\n",
            "4/4 [==============================] - 0s 5ms/step - loss: 10517.4951 - val_loss: 471.9634\n",
            "Epoch 120/500\n",
            "4/4 [==============================] - 0s 6ms/step - loss: 10534.5254 - val_loss: 460.8370\n",
            "Epoch 121/500\n",
            "4/4 [==============================] - 0s 6ms/step - loss: 10533.2139 - val_loss: 503.7463\n",
            "Epoch 122/500\n",
            "4/4 [==============================] - 0s 6ms/step - loss: 10541.3896 - val_loss: 488.0578\n",
            "Epoch 123/500\n",
            "4/4 [==============================] - 0s 6ms/step - loss: 10543.3984 - val_loss: 484.7144\n",
            "Epoch 124/500\n",
            "4/4 [==============================] - 0s 6ms/step - loss: 10535.4912 - val_loss: 478.3640\n",
            "Epoch 125/500\n",
            "4/4 [==============================] - 0s 7ms/step - loss: 10518.5332 - val_loss: 456.6295\n",
            "Epoch 126/500\n",
            "4/4 [==============================] - 0s 7ms/step - loss: 10534.6113 - val_loss: 442.8420\n",
            "Epoch 127/500\n",
            "4/4 [==============================] - 0s 7ms/step - loss: 10514.7725 - val_loss: 441.4625\n",
            "Epoch 128/500\n",
            "4/4 [==============================] - 0s 7ms/step - loss: 10542.0947 - val_loss: 446.0658\n",
            "Epoch 129/500\n",
            "4/4 [==============================] - 0s 7ms/step - loss: 10508.5684 - val_loss: 442.1396\n",
            "Epoch 130/500\n",
            "4/4 [==============================] - 0s 7ms/step - loss: 10512.5674 - val_loss: 444.2208\n",
            "Epoch 131/500\n",
            "4/4 [==============================] - 0s 6ms/step - loss: 10517.3311 - val_loss: 437.1086\n",
            "Epoch 132/500\n",
            "4/4 [==============================] - 0s 6ms/step - loss: 10511.3369 - val_loss: 428.5039\n",
            "Epoch 133/500\n",
            "4/4 [==============================] - 0s 7ms/step - loss: 10525.4355 - val_loss: 471.6238\n",
            "Epoch 134/500\n",
            "4/4 [==============================] - 0s 7ms/step - loss: 10519.9053 - val_loss: 466.9144\n",
            "Epoch 135/500\n",
            "4/4 [==============================] - 0s 8ms/step - loss: 10512.2949 - val_loss: 445.2190\n",
            "Epoch 136/500\n",
            "4/4 [==============================] - 0s 8ms/step - loss: 10531.1123 - val_loss: 499.1019\n",
            "Epoch 137/500\n",
            "4/4 [==============================] - 0s 7ms/step - loss: 10522.3408 - val_loss: 489.8299\n",
            "Epoch 138/500\n",
            "4/4 [==============================] - 0s 6ms/step - loss: 10575.7900 - val_loss: 554.7012\n",
            "Epoch 139/500\n",
            "4/4 [==============================] - 0s 6ms/step - loss: 10539.0010 - val_loss: 514.7904\n",
            "Epoch 140/500\n",
            "4/4 [==============================] - 0s 5ms/step - loss: 10538.1621 - val_loss: 551.3831\n",
            "Epoch 141/500\n",
            "4/4 [==============================] - 0s 7ms/step - loss: 10543.0479 - val_loss: 520.3004\n",
            "Epoch 142/500\n",
            "4/4 [==============================] - 0s 7ms/step - loss: 10524.7402 - val_loss: 511.3484\n",
            "Epoch 143/500\n",
            "4/4 [==============================] - 0s 6ms/step - loss: 10538.1670 - val_loss: 475.6632\n",
            "Epoch 144/500\n",
            "4/4 [==============================] - 0s 5ms/step - loss: 10501.5254 - val_loss: 465.6485\n",
            "Epoch 145/500\n",
            "4/4 [==============================] - 0s 6ms/step - loss: 10524.6670 - val_loss: 459.3744\n",
            "Epoch 146/500\n",
            "4/4 [==============================] - 0s 5ms/step - loss: 10520.6641 - val_loss: 440.3912\n",
            "Epoch 147/500\n",
            "4/4 [==============================] - 0s 6ms/step - loss: 10521.7021 - val_loss: 440.5306\n",
            "Epoch 148/500\n",
            "4/4 [==============================] - 0s 7ms/step - loss: 10508.3535 - val_loss: 448.6689\n",
            "Epoch 149/500\n",
            "4/4 [==============================] - 0s 7ms/step - loss: 10486.1475 - val_loss: 456.0144\n",
            "Epoch 150/500\n",
            "4/4 [==============================] - 0s 6ms/step - loss: 10506.6611 - val_loss: 441.7239\n",
            "Epoch 151/500\n",
            "4/4 [==============================] - 0s 5ms/step - loss: 10516.6387 - val_loss: 431.4126\n",
            "Epoch 152/500\n",
            "4/4 [==============================] - 0s 6ms/step - loss: 10502.9043 - val_loss: 431.3070\n",
            "Epoch 153/500\n",
            "4/4 [==============================] - 0s 6ms/step - loss: 10524.1650 - val_loss: 482.1969\n",
            "Epoch 154/500\n",
            "4/4 [==============================] - 0s 5ms/step - loss: 10518.5059 - val_loss: 528.6698\n",
            "Epoch 155/500\n",
            "4/4 [==============================] - 0s 8ms/step - loss: 10528.1904 - val_loss: 518.5020\n",
            "Epoch 156/500\n",
            "4/4 [==============================] - 0s 6ms/step - loss: 10519.9268 - val_loss: 490.8656\n",
            "Epoch 157/500\n",
            "4/4 [==============================] - 0s 6ms/step - loss: 10509.5420 - val_loss: 475.1799\n",
            "Epoch 158/500\n",
            "4/4 [==============================] - 0s 6ms/step - loss: 10489.0684 - val_loss: 463.3727\n",
            "Epoch 159/500\n",
            "4/4 [==============================] - 0s 8ms/step - loss: 10515.9150 - val_loss: 442.9303\n",
            "Epoch 160/500\n",
            "4/4 [==============================] - 0s 6ms/step - loss: 10520.0869 - val_loss: 436.9063\n",
            "Epoch 161/500\n",
            "4/4 [==============================] - 0s 6ms/step - loss: 10537.4053 - val_loss: 442.4992\n",
            "Epoch 162/500\n",
            "4/4 [==============================] - 0s 6ms/step - loss: 10511.5039 - val_loss: 447.9500\n",
            "Epoch 163/500\n",
            "4/4 [==============================] - 0s 6ms/step - loss: 10535.3203 - val_loss: 504.1680\n",
            "Epoch 164/500\n",
            "4/4 [==============================] - 0s 6ms/step - loss: 10538.4590 - val_loss: 488.9896\n",
            "Epoch 165/500\n",
            "4/4 [==============================] - 0s 8ms/step - loss: 10523.6523 - val_loss: 479.4190\n",
            "Epoch 166/500\n",
            "4/4 [==============================] - 0s 6ms/step - loss: 10512.3604 - val_loss: 463.7057\n",
            "Epoch 167/500\n",
            "4/4 [==============================] - 0s 6ms/step - loss: 10497.9766 - val_loss: 450.5974\n",
            "Epoch 168/500\n",
            "4/4 [==============================] - 0s 6ms/step - loss: 10528.3613 - val_loss: 447.5841\n",
            "Epoch 169/500\n",
            "4/4 [==============================] - 0s 6ms/step - loss: 10504.1426 - val_loss: 440.9778\n",
            "Epoch 170/500\n",
            "4/4 [==============================] - 0s 6ms/step - loss: 10519.6846 - val_loss: 432.5122\n",
            "Epoch 171/500\n",
            "4/4 [==============================] - 0s 8ms/step - loss: 10504.5469 - val_loss: 444.8038\n",
            "Epoch 172/500\n",
            "4/4 [==============================] - 0s 8ms/step - loss: 10529.6016 - val_loss: 433.8704\n",
            "Epoch 173/500\n",
            "4/4 [==============================] - 0s 6ms/step - loss: 10510.7344 - val_loss: 430.6057\n",
            "Epoch 174/500\n",
            "4/4 [==============================] - 0s 7ms/step - loss: 10502.4580 - val_loss: 428.6908\n",
            "Epoch 175/500\n",
            "4/4 [==============================] - 0s 7ms/step - loss: 10532.6553 - val_loss: 482.0753\n",
            "Epoch 176/500\n",
            "4/4 [==============================] - 0s 7ms/step - loss: 10531.9766 - val_loss: 470.6311\n",
            "Epoch 177/500\n",
            "4/4 [==============================] - 0s 7ms/step - loss: 10496.4619 - val_loss: 442.2303\n",
            "Epoch 178/500\n",
            "4/4 [==============================] - 0s 6ms/step - loss: 10502.2412 - val_loss: 438.6601\n",
            "Epoch 179/500\n",
            "4/4 [==============================] - 0s 7ms/step - loss: 10526.0986 - val_loss: 428.2604\n",
            "Epoch 180/500\n",
            "4/4 [==============================] - 0s 8ms/step - loss: 10525.4697 - val_loss: 433.5902\n",
            "Epoch 181/500\n",
            "4/4 [==============================] - 0s 6ms/step - loss: 10493.5742 - val_loss: 431.2691\n",
            "Epoch 182/500\n",
            "4/4 [==============================] - 0s 7ms/step - loss: 10496.5830 - val_loss: 438.1520\n",
            "Epoch 183/500\n",
            "4/4 [==============================] - 0s 6ms/step - loss: 10487.3154 - val_loss: 439.2309\n",
            "Epoch 184/500\n",
            "4/4 [==============================] - 0s 8ms/step - loss: 10486.1309 - val_loss: 436.3154\n",
            "Epoch 185/500\n",
            "4/4 [==============================] - 0s 7ms/step - loss: 10505.9785 - val_loss: 456.6142\n",
            "Epoch 186/500\n",
            "4/4 [==============================] - 0s 7ms/step - loss: 10504.3887 - val_loss: 462.1166\n",
            "Epoch 187/500\n",
            "4/4 [==============================] - 0s 7ms/step - loss: 10511.2920 - val_loss: 452.5051\n",
            "Epoch 188/500\n",
            "4/4 [==============================] - 0s 6ms/step - loss: 10499.0303 - val_loss: 439.5772\n",
            "Epoch 189/500\n",
            "4/4 [==============================] - 0s 6ms/step - loss: 10504.2725 - val_loss: 435.7799\n",
            "Epoch 190/500\n",
            "4/4 [==============================] - 0s 10ms/step - loss: 10507.3105 - val_loss: 430.0467\n",
            "Epoch 191/500\n",
            "4/4 [==============================] - 0s 7ms/step - loss: 10486.0566 - val_loss: 427.8990\n",
            "Epoch 192/500\n",
            "4/4 [==============================] - 0s 6ms/step - loss: 10505.0264 - val_loss: 428.1786\n",
            "Epoch 193/500\n",
            "4/4 [==============================] - 0s 6ms/step - loss: 10505.4561 - val_loss: 478.5304\n",
            "Epoch 194/500\n",
            "4/4 [==============================] - 0s 7ms/step - loss: 10528.0801 - val_loss: 471.4882\n",
            "Epoch 195/500\n",
            "4/4 [==============================] - 0s 7ms/step - loss: 10500.0010 - val_loss: 465.3767\n",
            "Epoch 196/500\n",
            "4/4 [==============================] - 0s 6ms/step - loss: 10515.3203 - val_loss: 447.9572\n",
            "Epoch 197/500\n",
            "4/4 [==============================] - 0s 6ms/step - loss: 10533.5596 - val_loss: 444.9027\n",
            "Epoch 198/500\n",
            "4/4 [==============================] - 0s 7ms/step - loss: 10511.4668 - val_loss: 443.8431\n",
            "Epoch 199/500\n",
            "4/4 [==============================] - 0s 6ms/step - loss: 10537.4971 - val_loss: 452.5235\n",
            "Epoch 200/500\n",
            "4/4 [==============================] - 0s 6ms/step - loss: 10492.0898 - val_loss: 441.8352\n",
            "Epoch 201/500\n",
            "4/4 [==============================] - 0s 6ms/step - loss: 10497.6611 - val_loss: 427.1156\n",
            "Epoch 202/500\n",
            "4/4 [==============================] - 0s 6ms/step - loss: 10559.2764 - val_loss: 491.9548\n",
            "Epoch 203/500\n",
            "4/4 [==============================] - 0s 6ms/step - loss: 10533.7314 - val_loss: 488.9751\n",
            "Epoch 204/500\n",
            "4/4 [==============================] - 0s 7ms/step - loss: 10508.0596 - val_loss: 469.9120\n",
            "Epoch 205/500\n",
            "4/4 [==============================] - 0s 7ms/step - loss: 10519.6523 - val_loss: 453.9477\n",
            "Epoch 206/500\n",
            "4/4 [==============================] - 0s 8ms/step - loss: 10483.5977 - val_loss: 439.5938\n",
            "Epoch 207/500\n",
            "4/4 [==============================] - 0s 7ms/step - loss: 10527.7188 - val_loss: 429.4246\n",
            "Epoch 208/500\n",
            "4/4 [==============================] - 0s 5ms/step - loss: 10531.3428 - val_loss: 422.3200\n",
            "Epoch 209/500\n",
            "4/4 [==============================] - 0s 6ms/step - loss: 10496.4023 - val_loss: 420.2175\n",
            "Epoch 210/500\n",
            "4/4 [==============================] - 0s 8ms/step - loss: 10490.5156 - val_loss: 422.8782\n",
            "Epoch 211/500\n",
            "4/4 [==============================] - 0s 6ms/step - loss: 10490.3506 - val_loss: 418.4251\n",
            "Epoch 212/500\n",
            "4/4 [==============================] - 0s 6ms/step - loss: 10521.9092 - val_loss: 425.4099\n",
            "Epoch 213/500\n",
            "4/4 [==============================] - 0s 7ms/step - loss: 10564.3545 - val_loss: 434.1801\n",
            "Epoch 214/500\n",
            "4/4 [==============================] - 0s 8ms/step - loss: 10505.5273 - val_loss: 445.4861\n",
            "Epoch 215/500\n",
            "4/4 [==============================] - 0s 7ms/step - loss: 10512.0947 - val_loss: 439.0107\n",
            "Epoch 216/500\n",
            "4/4 [==============================] - 0s 6ms/step - loss: 10515.2822 - val_loss: 429.3672\n",
            "Epoch 217/500\n",
            "4/4 [==============================] - 0s 6ms/step - loss: 10514.1768 - val_loss: 423.8356\n",
            "Epoch 218/500\n",
            "4/4 [==============================] - 0s 7ms/step - loss: 10513.7168 - val_loss: 420.3752\n",
            "Epoch 219/500\n",
            "4/4 [==============================] - 0s 7ms/step - loss: 10507.0635 - val_loss: 423.5309\n",
            "Epoch 220/500\n",
            "4/4 [==============================] - 0s 7ms/step - loss: 10516.8340 - val_loss: 473.5313\n",
            "Epoch 221/500\n",
            "4/4 [==============================] - 0s 7ms/step - loss: 10498.2529 - val_loss: 473.1429\n",
            "Epoch 222/500\n",
            "4/4 [==============================] - 0s 7ms/step - loss: 10495.3975 - val_loss: 459.5049\n",
            "Epoch 223/500\n",
            "4/4 [==============================] - 0s 7ms/step - loss: 10500.8535 - val_loss: 435.1731\n",
            "Epoch 224/500\n",
            "4/4 [==============================] - 0s 6ms/step - loss: 10522.9209 - val_loss: 493.5081\n",
            "Epoch 225/500\n",
            "4/4 [==============================] - 0s 7ms/step - loss: 10553.6885 - val_loss: 572.9284\n",
            "Epoch 226/500\n",
            "4/4 [==============================] - 0s 9ms/step - loss: 10552.0430 - val_loss: 532.6703\n",
            "Epoch 227/500\n",
            "4/4 [==============================] - 0s 7ms/step - loss: 10537.7334 - val_loss: 484.8692\n",
            "Epoch 228/500\n",
            "4/4 [==============================] - 0s 7ms/step - loss: 10520.5996 - val_loss: 455.0316\n",
            "Epoch 229/500\n",
            "4/4 [==============================] - 0s 6ms/step - loss: 10526.2822 - val_loss: 512.4545\n",
            "Epoch 230/500\n",
            "4/4 [==============================] - 0s 6ms/step - loss: 10534.6748 - val_loss: 479.2476\n",
            "Epoch 231/500\n",
            "4/4 [==============================] - 0s 7ms/step - loss: 10513.3760 - val_loss: 523.7944\n",
            "Epoch 232/500\n",
            "4/4 [==============================] - 0s 11ms/step - loss: 10515.4902 - val_loss: 518.8115\n",
            "Epoch 233/500\n",
            "4/4 [==============================] - 0s 7ms/step - loss: 10516.4268 - val_loss: 568.2125\n",
            "Epoch 234/500\n",
            "4/4 [==============================] - 0s 6ms/step - loss: 10530.3330 - val_loss: 523.8181\n",
            "Epoch 235/500\n",
            "4/4 [==============================] - 0s 7ms/step - loss: 10519.2432 - val_loss: 491.2183\n",
            "Epoch 236/500\n",
            "4/4 [==============================] - 0s 7ms/step - loss: 10496.8418 - val_loss: 470.2633\n",
            "Epoch 237/500\n",
            "4/4 [==============================] - 0s 6ms/step - loss: 10505.4775 - val_loss: 468.2436\n",
            "Epoch 238/500\n",
            "4/4 [==============================] - 0s 6ms/step - loss: 10493.8320 - val_loss: 470.4823\n",
            "Epoch 239/500\n",
            "4/4 [==============================] - 0s 6ms/step - loss: 10503.3955 - val_loss: 514.9783\n",
            "Epoch 240/500\n",
            "4/4 [==============================] - 0s 6ms/step - loss: 10520.4336 - val_loss: 503.5927\n",
            "Epoch 241/500\n",
            "4/4 [==============================] - 0s 6ms/step - loss: 10525.5713 - val_loss: 479.2442\n",
            "Epoch 242/500\n",
            "4/4 [==============================] - 0s 7ms/step - loss: 10514.3760 - val_loss: 466.2972\n",
            "Epoch 243/500\n",
            "4/4 [==============================] - 0s 8ms/step - loss: 10508.4697 - val_loss: 509.2064\n",
            "Epoch 244/500\n",
            "4/4 [==============================] - 0s 7ms/step - loss: 10513.9668 - val_loss: 491.8065\n",
            "Epoch 245/500\n",
            "4/4 [==============================] - 0s 7ms/step - loss: 10518.6523 - val_loss: 475.1241\n",
            "Epoch 246/500\n",
            "4/4 [==============================] - 0s 6ms/step - loss: 10517.7598 - val_loss: 527.4058\n",
            "Epoch 247/500\n",
            "4/4 [==============================] - 0s 7ms/step - loss: 10526.2568 - val_loss: 507.4736\n",
            "Epoch 248/500\n",
            "4/4 [==============================] - 0s 6ms/step - loss: 10508.0645 - val_loss: 478.5955\n",
            "Epoch 249/500\n",
            "4/4 [==============================] - 0s 6ms/step - loss: 10518.5215 - val_loss: 458.2392\n",
            "Epoch 250/500\n",
            "4/4 [==============================] - 0s 9ms/step - loss: 10531.4346 - val_loss: 453.2890\n",
            "Epoch 251/500\n",
            "4/4 [==============================] - 0s 6ms/step - loss: 10484.9199 - val_loss: 439.9298\n",
            "Epoch 252/500\n",
            "4/4 [==============================] - 0s 7ms/step - loss: 10491.8037 - val_loss: 438.1758\n",
            "Epoch 253/500\n",
            "4/4 [==============================] - 0s 6ms/step - loss: 10492.3779 - val_loss: 489.5640\n",
            "Epoch 254/500\n",
            "4/4 [==============================] - 0s 7ms/step - loss: 10505.3301 - val_loss: 477.8894\n",
            "Epoch 255/500\n",
            "4/4 [==============================] - 0s 6ms/step - loss: 10487.8047 - val_loss: 457.0634\n",
            "Epoch 256/500\n",
            "4/4 [==============================] - 0s 7ms/step - loss: 10504.8008 - val_loss: 441.3900\n",
            "Epoch 257/500\n",
            "4/4 [==============================] - 0s 7ms/step - loss: 10513.6904 - val_loss: 450.8512\n",
            "Epoch 258/500\n",
            "4/4 [==============================] - 0s 7ms/step - loss: 10500.5332 - val_loss: 451.4977\n",
            "Epoch 259/500\n",
            "4/4 [==============================] - 0s 7ms/step - loss: 10512.6670 - val_loss: 443.2465\n",
            "Epoch 260/500\n",
            "4/4 [==============================] - 0s 7ms/step - loss: 10510.1494 - val_loss: 433.8276\n",
            "Epoch 261/500\n",
            "4/4 [==============================] - 0s 6ms/step - loss: 10521.3896 - val_loss: 431.2940\n",
            "Epoch 262/500\n",
            "4/4 [==============================] - 0s 6ms/step - loss: 10508.0117 - val_loss: 425.7745\n",
            "Epoch 263/500\n",
            "4/4 [==============================] - 0s 7ms/step - loss: 10492.4756 - val_loss: 419.6815\n",
            "Epoch 264/500\n",
            "4/4 [==============================] - 0s 6ms/step - loss: 10478.7939 - val_loss: 422.0414\n",
            "Epoch 265/500\n",
            "4/4 [==============================] - 0s 7ms/step - loss: 10499.3096 - val_loss: 431.5680\n",
            "Epoch 266/500\n",
            "4/4 [==============================] - 0s 6ms/step - loss: 10498.8184 - val_loss: 427.5957\n",
            "Epoch 267/500\n",
            "4/4 [==============================] - 0s 6ms/step - loss: 10497.7646 - val_loss: 422.8854\n",
            "Epoch 268/500\n",
            "4/4 [==============================] - 0s 8ms/step - loss: 10499.2656 - val_loss: 416.7321\n",
            "Epoch 269/500\n",
            "4/4 [==============================] - 0s 7ms/step - loss: 10487.5400 - val_loss: 412.9552\n",
            "Epoch 270/500\n",
            "4/4 [==============================] - 0s 8ms/step - loss: 10533.6963 - val_loss: 422.9767\n",
            "Epoch 271/500\n",
            "4/4 [==============================] - 0s 6ms/step - loss: 10469.6201 - val_loss: 422.0109\n",
            "Epoch 272/500\n",
            "4/4 [==============================] - 0s 6ms/step - loss: 10496.1611 - val_loss: 405.5291\n",
            "Epoch 273/500\n",
            "4/4 [==============================] - 0s 7ms/step - loss: 10538.1572 - val_loss: 406.4514\n",
            "Epoch 274/500\n",
            "4/4 [==============================] - 0s 7ms/step - loss: 10489.3525 - val_loss: 415.2903\n",
            "Epoch 275/500\n",
            "4/4 [==============================] - 0s 8ms/step - loss: 10485.1641 - val_loss: 413.9751\n",
            "Epoch 276/500\n",
            "4/4 [==============================] - 0s 6ms/step - loss: 10508.3438 - val_loss: 411.4492\n",
            "Epoch 277/500\n",
            "4/4 [==============================] - 0s 8ms/step - loss: 10495.7578 - val_loss: 415.2553\n",
            "Epoch 278/500\n",
            "4/4 [==============================] - 0s 7ms/step - loss: 10498.9902 - val_loss: 414.1980\n",
            "Epoch 279/500\n",
            "4/4 [==============================] - 0s 7ms/step - loss: 10511.1719 - val_loss: 464.3221\n",
            "Epoch 280/500\n",
            "4/4 [==============================] - 0s 7ms/step - loss: 10501.8252 - val_loss: 471.6957\n",
            "Epoch 281/500\n",
            "4/4 [==============================] - 0s 8ms/step - loss: 10491.3799 - val_loss: 459.4037\n",
            "Epoch 282/500\n",
            "4/4 [==============================] - 0s 8ms/step - loss: 10493.4336 - val_loss: 446.8975\n",
            "Epoch 283/500\n",
            "4/4 [==============================] - 0s 7ms/step - loss: 10484.9141 - val_loss: 434.2788\n",
            "Epoch 284/500\n",
            "4/4 [==============================] - 0s 8ms/step - loss: 10502.0039 - val_loss: 483.9755\n",
            "Epoch 285/500\n",
            "4/4 [==============================] - 0s 6ms/step - loss: 10477.1211 - val_loss: 469.3813\n",
            "Epoch 286/500\n",
            "4/4 [==============================] - 0s 6ms/step - loss: 10500.1367 - val_loss: 445.4721\n",
            "Epoch 287/500\n",
            "4/4 [==============================] - 0s 7ms/step - loss: 10501.8672 - val_loss: 434.8301\n",
            "Epoch 288/500\n",
            "4/4 [==============================] - 0s 7ms/step - loss: 10501.2197 - val_loss: 438.8349\n",
            "Epoch 289/500\n",
            "4/4 [==============================] - 0s 6ms/step - loss: 10479.5459 - val_loss: 432.8383\n",
            "Epoch 290/500\n",
            "4/4 [==============================] - 0s 6ms/step - loss: 10470.4639 - val_loss: 420.8960\n",
            "Epoch 291/500\n",
            "4/4 [==============================] - 0s 7ms/step - loss: 10502.2715 - val_loss: 427.2658\n",
            "Epoch 292/500\n",
            "4/4 [==============================] - 0s 6ms/step - loss: 10500.2080 - val_loss: 411.8296\n",
            "Epoch 293/500\n",
            "4/4 [==============================] - 0s 6ms/step - loss: 10510.4258 - val_loss: 411.7361\n",
            "Epoch 294/500\n",
            "4/4 [==============================] - 0s 7ms/step - loss: 10534.8291 - val_loss: 430.4450\n",
            "Epoch 295/500\n",
            "4/4 [==============================] - 0s 5ms/step - loss: 10507.6436 - val_loss: 483.4328\n",
            "Epoch 296/500\n",
            "4/4 [==============================] - 0s 7ms/step - loss: 10528.2783 - val_loss: 538.1395\n",
            "Epoch 297/500\n",
            "4/4 [==============================] - 0s 6ms/step - loss: 10522.1182 - val_loss: 504.7967\n",
            "Epoch 298/500\n",
            "4/4 [==============================] - 0s 6ms/step - loss: 10502.4102 - val_loss: 471.9797\n",
            "Epoch 299/500\n",
            "4/4 [==============================] - 0s 6ms/step - loss: 10502.9355 - val_loss: 451.8214\n",
            "Epoch 300/500\n",
            "4/4 [==============================] - 0s 7ms/step - loss: 10514.3760 - val_loss: 440.3455\n",
            "Epoch 301/500\n",
            "4/4 [==============================] - 0s 8ms/step - loss: 10500.8008 - val_loss: 434.6100\n",
            "Epoch 302/500\n",
            "4/4 [==============================] - 0s 7ms/step - loss: 10488.2529 - val_loss: 424.7340\n",
            "Epoch 303/500\n",
            "4/4 [==============================] - 0s 7ms/step - loss: 10496.4795 - val_loss: 475.9701\n",
            "Epoch 304/500\n",
            "4/4 [==============================] - 0s 7ms/step - loss: 10501.2061 - val_loss: 467.6024\n",
            "Epoch 305/500\n",
            "4/4 [==============================] - 0s 5ms/step - loss: 10474.4463 - val_loss: 441.0404\n",
            "Epoch 306/500\n",
            "4/4 [==============================] - 0s 6ms/step - loss: 10492.5303 - val_loss: 443.7049\n",
            "Epoch 307/500\n",
            "4/4 [==============================] - 0s 5ms/step - loss: 10508.7500 - val_loss: 445.4720\n",
            "Epoch 308/500\n",
            "4/4 [==============================] - 0s 8ms/step - loss: 10503.8213 - val_loss: 437.7920\n",
            "Epoch 309/500\n",
            "4/4 [==============================] - 0s 7ms/step - loss: 10516.3848 - val_loss: 439.1908\n",
            "Epoch 310/500\n",
            "4/4 [==============================] - 0s 6ms/step - loss: 10496.6006 - val_loss: 428.0355\n",
            "Epoch 311/500\n",
            "4/4 [==============================] - 0s 6ms/step - loss: 10496.6211 - val_loss: 419.6495\n",
            "Epoch 312/500\n",
            "4/4 [==============================] - 0s 5ms/step - loss: 10493.7119 - val_loss: 426.3042\n",
            "Epoch 313/500\n",
            "4/4 [==============================] - 0s 6ms/step - loss: 10530.9648 - val_loss: 443.8558\n",
            "Epoch 314/500\n",
            "4/4 [==============================] - 0s 8ms/step - loss: 10536.8838 - val_loss: 435.2774\n",
            "Epoch 315/500\n",
            "4/4 [==============================] - 0s 7ms/step - loss: 10506.7744 - val_loss: 422.9886\n",
            "Epoch 316/500\n",
            "4/4 [==============================] - 0s 7ms/step - loss: 10530.6885 - val_loss: 417.4377\n",
            "Epoch 317/500\n",
            "4/4 [==============================] - 0s 6ms/step - loss: 10505.4580 - val_loss: 456.3632\n",
            "Epoch 318/500\n",
            "4/4 [==============================] - 0s 6ms/step - loss: 10501.4072 - val_loss: 450.5793\n",
            "Epoch 319/500\n",
            "4/4 [==============================] - 0s 7ms/step - loss: 10528.7168 - val_loss: 443.7716\n",
            "Epoch 320/500\n",
            "4/4 [==============================] - 0s 7ms/step - loss: 10498.9346 - val_loss: 433.3264\n",
            "Epoch 321/500\n",
            "4/4 [==============================] - 0s 5ms/step - loss: 10511.2676 - val_loss: 427.0266\n",
            "Epoch 322/500\n",
            "4/4 [==============================] - 0s 7ms/step - loss: 10490.1533 - val_loss: 433.4425\n",
            "Epoch 323/500\n",
            "4/4 [==============================] - 0s 6ms/step - loss: 10500.5303 - val_loss: 428.4165\n",
            "Epoch 324/500\n",
            "4/4 [==============================] - 0s 7ms/step - loss: 10494.7051 - val_loss: 474.1015\n",
            "Epoch 325/500\n",
            "4/4 [==============================] - 0s 7ms/step - loss: 10517.7393 - val_loss: 540.9919\n",
            "Epoch 326/500\n",
            "4/4 [==============================] - 0s 8ms/step - loss: 10547.2852 - val_loss: 495.8629\n",
            "Epoch 327/500\n",
            "4/4 [==============================] - 0s 6ms/step - loss: 10506.9375 - val_loss: 463.5246\n",
            "Epoch 328/500\n",
            "4/4 [==============================] - 0s 7ms/step - loss: 10481.2637 - val_loss: 444.6067\n",
            "Epoch 329/500\n",
            "4/4 [==============================] - 0s 6ms/step - loss: 10519.0029 - val_loss: 433.5098\n",
            "Epoch 330/500\n",
            "4/4 [==============================] - 0s 6ms/step - loss: 10477.6963 - val_loss: 425.9062\n",
            "Epoch 331/500\n",
            "4/4 [==============================] - 0s 6ms/step - loss: 10494.2607 - val_loss: 426.6924\n",
            "Epoch 332/500\n",
            "4/4 [==============================] - 0s 8ms/step - loss: 10497.9873 - val_loss: 422.1276\n",
            "Epoch 333/500\n",
            "4/4 [==============================] - 0s 7ms/step - loss: 10522.3389 - val_loss: 427.5771\n",
            "Epoch 334/500\n",
            "4/4 [==============================] - 0s 7ms/step - loss: 10509.3018 - val_loss: 428.1763\n",
            "Epoch 335/500\n",
            "4/4 [==============================] - 0s 6ms/step - loss: 10504.6533 - val_loss: 429.3248\n",
            "Epoch 336/500\n",
            "4/4 [==============================] - 0s 6ms/step - loss: 10510.6367 - val_loss: 422.1700\n",
            "Epoch 337/500\n",
            "4/4 [==============================] - 0s 6ms/step - loss: 10481.3418 - val_loss: 425.2001\n",
            "Epoch 338/500\n",
            "4/4 [==============================] - 0s 6ms/step - loss: 10487.7695 - val_loss: 422.3240\n",
            "Epoch 339/500\n",
            "4/4 [==============================] - 0s 7ms/step - loss: 10503.5430 - val_loss: 469.3772\n",
            "Epoch 340/500\n",
            "4/4 [==============================] - 0s 7ms/step - loss: 10518.2412 - val_loss: 461.0801\n",
            "Epoch 341/500\n",
            "4/4 [==============================] - 0s 7ms/step - loss: 10479.6904 - val_loss: 453.6262\n",
            "Epoch 342/500\n",
            "4/4 [==============================] - 0s 7ms/step - loss: 10505.0771 - val_loss: 442.2625\n",
            "Epoch 343/500\n",
            "4/4 [==============================] - 0s 6ms/step - loss: 10513.4863 - val_loss: 442.2816\n",
            "Epoch 344/500\n",
            "4/4 [==============================] - 0s 8ms/step - loss: 10477.2217 - val_loss: 436.3928\n",
            "Epoch 345/500\n",
            "4/4 [==============================] - 0s 7ms/step - loss: 10498.6006 - val_loss: 429.7604\n",
            "Epoch 346/500\n",
            "4/4 [==============================] - 0s 6ms/step - loss: 10499.8760 - val_loss: 418.2141\n",
            "Epoch 347/500\n",
            "4/4 [==============================] - 0s 7ms/step - loss: 10505.8926 - val_loss: 417.2939\n",
            "Epoch 348/500\n",
            "4/4 [==============================] - 0s 6ms/step - loss: 10511.4111 - val_loss: 426.5245\n",
            "Epoch 349/500\n",
            "4/4 [==============================] - 0s 8ms/step - loss: 10509.6289 - val_loss: 488.9804\n",
            "Epoch 350/500\n",
            "4/4 [==============================] - 0s 8ms/step - loss: 10526.4180 - val_loss: 480.8474\n",
            "Epoch 351/500\n",
            "4/4 [==============================] - 0s 7ms/step - loss: 10503.9893 - val_loss: 461.4557\n",
            "Epoch 352/500\n",
            "4/4 [==============================] - 0s 8ms/step - loss: 10515.5352 - val_loss: 447.7578\n",
            "Epoch 353/500\n",
            "4/4 [==============================] - 0s 7ms/step - loss: 10515.7441 - val_loss: 430.6095\n",
            "Epoch 354/500\n",
            "4/4 [==============================] - 0s 7ms/step - loss: 10490.9678 - val_loss: 420.8686\n",
            "Epoch 355/500\n",
            "4/4 [==============================] - 0s 8ms/step - loss: 10497.4502 - val_loss: 419.8277\n",
            "Epoch 356/500\n",
            "4/4 [==============================] - 0s 7ms/step - loss: 10481.6221 - val_loss: 414.6053\n",
            "Epoch 357/500\n",
            "4/4 [==============================] - 0s 7ms/step - loss: 10503.6572 - val_loss: 420.7075\n",
            "Epoch 358/500\n",
            "4/4 [==============================] - 0s 6ms/step - loss: 10477.7598 - val_loss: 421.7019\n",
            "Epoch 359/500\n",
            "4/4 [==============================] - 0s 7ms/step - loss: 10532.2500 - val_loss: 485.9331\n",
            "Epoch 360/500\n",
            "4/4 [==============================] - 0s 9ms/step - loss: 10522.3672 - val_loss: 489.5121\n",
            "Epoch 361/500\n",
            "4/4 [==============================] - 0s 8ms/step - loss: 10502.9287 - val_loss: 462.1551\n",
            "Epoch 362/500\n",
            "4/4 [==============================] - 0s 8ms/step - loss: 10512.4805 - val_loss: 451.5539\n",
            "Epoch 363/500\n",
            "4/4 [==============================] - 0s 6ms/step - loss: 10495.4453 - val_loss: 451.6166\n",
            "Epoch 364/500\n",
            "4/4 [==============================] - 0s 7ms/step - loss: 10510.9453 - val_loss: 497.2492\n",
            "Epoch 365/500\n",
            "4/4 [==============================] - 0s 7ms/step - loss: 10515.7793 - val_loss: 467.0414\n",
            "Epoch 366/500\n",
            "4/4 [==============================] - 0s 7ms/step - loss: 10532.1377 - val_loss: 509.6869\n",
            "Epoch 367/500\n",
            "4/4 [==============================] - 0s 8ms/step - loss: 10525.5586 - val_loss: 555.5350\n",
            "Epoch 368/500\n",
            "4/4 [==============================] - 0s 7ms/step - loss: 10507.0361 - val_loss: 521.6898\n",
            "Epoch 369/500\n",
            "4/4 [==============================] - 0s 7ms/step - loss: 10520.9268 - val_loss: 563.5490\n",
            "Epoch 370/500\n",
            "4/4 [==============================] - 0s 6ms/step - loss: 10540.9072 - val_loss: 514.5002\n",
            "Epoch 371/500\n",
            "4/4 [==============================] - 0s 10ms/step - loss: 10513.7705 - val_loss: 489.5007\n",
            "Epoch 372/500\n",
            "4/4 [==============================] - 0s 8ms/step - loss: 10482.6025 - val_loss: 461.3033\n",
            "Epoch 373/500\n",
            "4/4 [==============================] - 0s 9ms/step - loss: 10485.9258 - val_loss: 445.2263\n",
            "Epoch 374/500\n",
            "4/4 [==============================] - 0s 6ms/step - loss: 10499.6729 - val_loss: 436.6872\n",
            "Epoch 375/500\n",
            "4/4 [==============================] - 0s 7ms/step - loss: 10514.1924 - val_loss: 434.8818\n",
            "Epoch 376/500\n",
            "4/4 [==============================] - 0s 9ms/step - loss: 10490.1045 - val_loss: 432.2239\n",
            "Epoch 377/500\n",
            "4/4 [==============================] - 0s 7ms/step - loss: 10482.9580 - val_loss: 429.6836\n",
            "Epoch 378/500\n",
            "4/4 [==============================] - 0s 7ms/step - loss: 10509.9473 - val_loss: 487.5295\n",
            "Epoch 379/500\n",
            "4/4 [==============================] - 0s 6ms/step - loss: 10495.1611 - val_loss: 478.5967\n",
            "Epoch 380/500\n",
            "4/4 [==============================] - 0s 8ms/step - loss: 10512.9043 - val_loss: 522.2582\n",
            "Epoch 381/500\n",
            "4/4 [==============================] - 0s 7ms/step - loss: 10539.8877 - val_loss: 588.1550\n",
            "Epoch 382/500\n",
            "4/4 [==============================] - 0s 7ms/step - loss: 10553.8164 - val_loss: 563.3691\n",
            "Epoch 383/500\n",
            "4/4 [==============================] - 0s 7ms/step - loss: 10514.3418 - val_loss: 507.9922\n",
            "Epoch 384/500\n",
            "4/4 [==============================] - 0s 7ms/step - loss: 10492.9346 - val_loss: 494.5547\n",
            "Epoch 385/500\n",
            "4/4 [==============================] - 0s 8ms/step - loss: 10496.4795 - val_loss: 477.7786\n",
            "Epoch 386/500\n",
            "4/4 [==============================] - 0s 7ms/step - loss: 10484.0303 - val_loss: 455.1607\n",
            "Epoch 387/500\n",
            "4/4 [==============================] - 0s 10ms/step - loss: 10509.2676 - val_loss: 442.6960\n",
            "Epoch 388/500\n",
            "4/4 [==============================] - 0s 7ms/step - loss: 10473.9434 - val_loss: 432.8895\n",
            "Epoch 389/500\n",
            "4/4 [==============================] - 0s 8ms/step - loss: 10503.8447 - val_loss: 425.6973\n",
            "Epoch 390/500\n",
            "4/4 [==============================] - 0s 6ms/step - loss: 10504.2832 - val_loss: 480.1054\n",
            "Epoch 391/500\n",
            "4/4 [==============================] - 0s 6ms/step - loss: 10482.8359 - val_loss: 467.4171\n",
            "Epoch 392/500\n",
            "4/4 [==============================] - 0s 8ms/step - loss: 10481.1211 - val_loss: 446.5746\n",
            "Epoch 393/500\n",
            "4/4 [==============================] - 0s 8ms/step - loss: 10509.3037 - val_loss: 433.2127\n",
            "Epoch 394/500\n",
            "4/4 [==============================] - 0s 7ms/step - loss: 10500.2510 - val_loss: 439.0061\n",
            "Epoch 395/500\n",
            "4/4 [==============================] - 0s 8ms/step - loss: 10476.5244 - val_loss: 436.4168\n",
            "Epoch 396/500\n",
            "4/4 [==============================] - 0s 7ms/step - loss: 10511.8301 - val_loss: 426.7029\n",
            "Epoch 397/500\n",
            "4/4 [==============================] - 0s 10ms/step - loss: 10508.1221 - val_loss: 412.3818\n",
            "Epoch 398/500\n",
            "4/4 [==============================] - 0s 6ms/step - loss: 10488.4648 - val_loss: 410.3256\n",
            "Epoch 399/500\n",
            "4/4 [==============================] - 0s 8ms/step - loss: 10516.1934 - val_loss: 410.2447\n",
            "Epoch 400/500\n",
            "4/4 [==============================] - 0s 8ms/step - loss: 10513.6299 - val_loss: 407.6729\n",
            "Epoch 401/500\n",
            "4/4 [==============================] - 0s 7ms/step - loss: 10499.2461 - val_loss: 402.7482\n",
            "Epoch 402/500\n",
            "4/4 [==============================] - 0s 6ms/step - loss: 10532.2256 - val_loss: 397.7878\n",
            "Epoch 403/500\n",
            "4/4 [==============================] - 0s 8ms/step - loss: 10500.2344 - val_loss: 410.2180\n",
            "Epoch 404/500\n",
            "4/4 [==============================] - 0s 8ms/step - loss: 10524.2510 - val_loss: 412.6280\n",
            "Epoch 405/500\n",
            "4/4 [==============================] - 0s 8ms/step - loss: 10496.4609 - val_loss: 417.3702\n",
            "Epoch 406/500\n",
            "4/4 [==============================] - 0s 6ms/step - loss: 10516.4004 - val_loss: 411.3116\n",
            "Epoch 407/500\n",
            "4/4 [==============================] - 0s 8ms/step - loss: 10495.0967 - val_loss: 411.7412\n",
            "Epoch 408/500\n",
            "4/4 [==============================] - 0s 7ms/step - loss: 10504.0176 - val_loss: 412.6480\n",
            "Epoch 409/500\n",
            "4/4 [==============================] - 0s 8ms/step - loss: 10516.3262 - val_loss: 408.1125\n",
            "Epoch 410/500\n",
            "4/4 [==============================] - 0s 7ms/step - loss: 10493.5537 - val_loss: 399.3690\n",
            "Epoch 411/500\n",
            "4/4 [==============================] - 0s 7ms/step - loss: 10498.0127 - val_loss: 399.8248\n",
            "Epoch 412/500\n",
            "4/4 [==============================] - 0s 6ms/step - loss: 10496.9473 - val_loss: 404.4706\n",
            "Epoch 413/500\n",
            "4/4 [==============================] - 0s 7ms/step - loss: 10534.6035 - val_loss: 461.9039\n",
            "Epoch 414/500\n",
            "4/4 [==============================] - 0s 7ms/step - loss: 10489.3965 - val_loss: 465.4964\n",
            "Epoch 415/500\n",
            "4/4 [==============================] - 0s 7ms/step - loss: 10488.8789 - val_loss: 454.8312\n",
            "Epoch 416/500\n",
            "4/4 [==============================] - 0s 7ms/step - loss: 10508.8926 - val_loss: 438.9422\n",
            "Epoch 417/500\n",
            "4/4 [==============================] - 0s 6ms/step - loss: 10500.2598 - val_loss: 438.9030\n",
            "Epoch 418/500\n",
            "4/4 [==============================] - 0s 6ms/step - loss: 10481.5742 - val_loss: 436.9949\n",
            "Epoch 419/500\n",
            "4/4 [==============================] - 0s 6ms/step - loss: 10481.5391 - val_loss: 433.0950\n",
            "Epoch 420/500\n",
            "4/4 [==============================] - 0s 7ms/step - loss: 10525.4873 - val_loss: 422.5194\n",
            "Epoch 421/500\n",
            "4/4 [==============================] - 0s 7ms/step - loss: 10494.5244 - val_loss: 424.7149\n",
            "Epoch 422/500\n",
            "4/4 [==============================] - 0s 6ms/step - loss: 10503.0293 - val_loss: 436.0228\n",
            "Epoch 423/500\n",
            "4/4 [==============================] - 0s 8ms/step - loss: 10546.4453 - val_loss: 436.2716\n",
            "Epoch 424/500\n",
            "4/4 [==============================] - 0s 8ms/step - loss: 10503.9961 - val_loss: 442.6881\n",
            "Epoch 425/500\n",
            "4/4 [==============================] - 0s 6ms/step - loss: 10507.9258 - val_loss: 447.6207\n",
            "Epoch 426/500\n",
            "4/4 [==============================] - 0s 7ms/step - loss: 10537.1709 - val_loss: 493.4012\n",
            "Epoch 427/500\n",
            "4/4 [==============================] - 0s 7ms/step - loss: 10550.7285 - val_loss: 478.2122\n",
            "Epoch 428/500\n",
            "4/4 [==============================] - 0s 8ms/step - loss: 10523.1475 - val_loss: 459.2905\n",
            "Epoch 429/500\n",
            "4/4 [==============================] - 0s 9ms/step - loss: 10500.8984 - val_loss: 441.9749\n",
            "Epoch 430/500\n",
            "4/4 [==============================] - 0s 8ms/step - loss: 10483.2227 - val_loss: 431.9264\n",
            "Epoch 431/500\n",
            "4/4 [==============================] - 0s 7ms/step - loss: 10493.1348 - val_loss: 428.9050\n",
            "Epoch 432/500\n",
            "4/4 [==============================] - 0s 7ms/step - loss: 10500.7559 - val_loss: 437.9579\n",
            "Epoch 433/500\n",
            "4/4 [==============================] - 0s 7ms/step - loss: 10499.7744 - val_loss: 432.8699\n",
            "Epoch 434/500\n",
            "4/4 [==============================] - 0s 8ms/step - loss: 10519.8867 - val_loss: 419.6100\n",
            "Epoch 435/500\n",
            "4/4 [==============================] - 0s 7ms/step - loss: 10520.0977 - val_loss: 411.7540\n",
            "Epoch 436/500\n",
            "4/4 [==============================] - 0s 7ms/step - loss: 10507.1846 - val_loss: 467.3647\n",
            "Epoch 437/500\n",
            "4/4 [==============================] - 0s 7ms/step - loss: 10495.3301 - val_loss: 449.4726\n",
            "Epoch 438/500\n",
            "4/4 [==============================] - 0s 8ms/step - loss: 10507.1055 - val_loss: 445.2047\n",
            "Epoch 439/500\n",
            "4/4 [==============================] - 0s 7ms/step - loss: 10492.1270 - val_loss: 451.1260\n",
            "Epoch 440/500\n",
            "4/4 [==============================] - 0s 7ms/step - loss: 10512.1641 - val_loss: 443.7260\n",
            "Epoch 441/500\n",
            "4/4 [==============================] - 0s 9ms/step - loss: 10507.4434 - val_loss: 437.2415\n",
            "Epoch 442/500\n",
            "4/4 [==============================] - 0s 8ms/step - loss: 10519.0068 - val_loss: 428.6053\n",
            "Epoch 443/500\n",
            "4/4 [==============================] - 0s 7ms/step - loss: 10485.3027 - val_loss: 427.3633\n",
            "Epoch 444/500\n",
            "4/4 [==============================] - 0s 7ms/step - loss: 10522.9668 - val_loss: 424.8368\n",
            "Epoch 445/500\n",
            "4/4 [==============================] - 0s 7ms/step - loss: 10492.6963 - val_loss: 428.8889\n",
            "Epoch 446/500\n",
            "4/4 [==============================] - 0s 8ms/step - loss: 10483.1973 - val_loss: 429.9472\n",
            "Epoch 447/500\n",
            "4/4 [==============================] - 0s 7ms/step - loss: 10498.2100 - val_loss: 428.2538\n",
            "Epoch 448/500\n",
            "4/4 [==============================] - 0s 6ms/step - loss: 10472.5020 - val_loss: 421.3520\n",
            "Epoch 449/500\n",
            "4/4 [==============================] - 0s 6ms/step - loss: 10534.2754 - val_loss: 417.6066\n",
            "Epoch 450/500\n",
            "4/4 [==============================] - 0s 8ms/step - loss: 10498.4150 - val_loss: 420.7806\n",
            "Epoch 451/500\n",
            "4/4 [==============================] - 0s 6ms/step - loss: 10503.7549 - val_loss: 410.6274\n",
            "Epoch 452/500\n",
            "4/4 [==============================] - 0s 7ms/step - loss: 10502.8047 - val_loss: 408.9463\n",
            "Epoch 453/500\n",
            "4/4 [==============================] - 0s 8ms/step - loss: 10498.7168 - val_loss: 409.2519\n",
            "Epoch 454/500\n",
            "4/4 [==============================] - 0s 6ms/step - loss: 10517.1963 - val_loss: 415.9601\n",
            "Epoch 455/500\n",
            "4/4 [==============================] - 0s 7ms/step - loss: 10498.5020 - val_loss: 422.0938\n",
            "Epoch 456/500\n",
            "4/4 [==============================] - 0s 6ms/step - loss: 10487.8047 - val_loss: 410.1345\n",
            "Epoch 457/500\n",
            "4/4 [==============================] - 0s 7ms/step - loss: 10503.9980 - val_loss: 411.0423\n",
            "Epoch 458/500\n",
            "4/4 [==============================] - 0s 7ms/step - loss: 10506.1768 - val_loss: 408.1021\n",
            "Epoch 459/500\n",
            "4/4 [==============================] - 0s 10ms/step - loss: 10504.1904 - val_loss: 403.0953\n",
            "Epoch 460/500\n",
            "4/4 [==============================] - 0s 6ms/step - loss: 10502.7861 - val_loss: 399.6241\n",
            "Epoch 461/500\n",
            "4/4 [==============================] - 0s 6ms/step - loss: 10483.7715 - val_loss: 397.1216\n",
            "Epoch 462/500\n",
            "4/4 [==============================] - 0s 6ms/step - loss: 10511.6035 - val_loss: 403.2517\n",
            "Epoch 463/500\n",
            "4/4 [==============================] - 0s 7ms/step - loss: 10502.9580 - val_loss: 408.1577\n",
            "Epoch 464/500\n",
            "4/4 [==============================] - 0s 6ms/step - loss: 10527.9756 - val_loss: 414.8036\n",
            "Epoch 465/500\n",
            "4/4 [==============================] - 0s 7ms/step - loss: 10512.6934 - val_loss: 398.7966\n",
            "Epoch 466/500\n",
            "4/4 [==============================] - 0s 8ms/step - loss: 10508.8730 - val_loss: 455.5328\n",
            "Epoch 467/500\n",
            "4/4 [==============================] - 0s 7ms/step - loss: 10508.4404 - val_loss: 453.8872\n",
            "Epoch 468/500\n",
            "4/4 [==============================] - 0s 7ms/step - loss: 10492.2061 - val_loss: 445.0747\n",
            "Epoch 469/500\n",
            "4/4 [==============================] - 0s 8ms/step - loss: 10485.9375 - val_loss: 432.7224\n",
            "Epoch 470/500\n",
            "4/4 [==============================] - 0s 6ms/step - loss: 10503.1152 - val_loss: 419.0880\n",
            "Epoch 471/500\n",
            "4/4 [==============================] - 0s 7ms/step - loss: 10510.5156 - val_loss: 408.0043\n",
            "Epoch 472/500\n",
            "4/4 [==============================] - 0s 6ms/step - loss: 10493.0264 - val_loss: 405.8902\n",
            "Epoch 473/500\n",
            "4/4 [==============================] - 0s 7ms/step - loss: 10498.1270 - val_loss: 450.6707\n",
            "Epoch 474/500\n",
            "4/4 [==============================] - 0s 7ms/step - loss: 10505.5039 - val_loss: 528.1552\n",
            "Epoch 475/500\n",
            "4/4 [==============================] - 0s 7ms/step - loss: 10549.8965 - val_loss: 590.4499\n",
            "Epoch 476/500\n",
            "4/4 [==============================] - 0s 6ms/step - loss: 10551.7998 - val_loss: 542.4282\n",
            "Epoch 477/500\n",
            "4/4 [==============================] - 0s 9ms/step - loss: 10516.0850 - val_loss: 504.5208\n",
            "Epoch 478/500\n",
            "4/4 [==============================] - 0s 7ms/step - loss: 10506.3682 - val_loss: 471.6437\n",
            "Epoch 479/500\n",
            "4/4 [==============================] - 0s 8ms/step - loss: 10492.3242 - val_loss: 449.3150\n",
            "Epoch 480/500\n",
            "4/4 [==============================] - 0s 7ms/step - loss: 10485.4131 - val_loss: 443.8761\n",
            "Epoch 481/500\n",
            "4/4 [==============================] - 0s 9ms/step - loss: 10489.8428 - val_loss: 443.3043\n",
            "Epoch 482/500\n",
            "4/4 [==============================] - 0s 8ms/step - loss: 10477.8359 - val_loss: 441.9031\n",
            "Epoch 483/500\n",
            "4/4 [==============================] - 0s 8ms/step - loss: 10522.5596 - val_loss: 502.2611\n",
            "Epoch 484/500\n",
            "4/4 [==============================] - 0s 7ms/step - loss: 10506.3633 - val_loss: 491.2089\n",
            "Epoch 485/500\n",
            "4/4 [==============================] - 0s 8ms/step - loss: 10511.6660 - val_loss: 452.4075\n",
            "Epoch 486/500\n",
            "4/4 [==============================] - 0s 8ms/step - loss: 10493.6182 - val_loss: 430.2831\n",
            "Epoch 487/500\n",
            "4/4 [==============================] - 0s 9ms/step - loss: 10498.9004 - val_loss: 440.4271\n",
            "Epoch 488/500\n",
            "4/4 [==============================] - 0s 8ms/step - loss: 10493.2090 - val_loss: 423.7967\n",
            "Epoch 489/500\n",
            "4/4 [==============================] - 0s 8ms/step - loss: 10510.8965 - val_loss: 407.4435\n",
            "Epoch 490/500\n",
            "4/4 [==============================] - 0s 8ms/step - loss: 10491.3350 - val_loss: 410.3740\n",
            "Epoch 491/500\n",
            "4/4 [==============================] - 0s 8ms/step - loss: 10492.2080 - val_loss: 464.2149\n",
            "Epoch 492/500\n",
            "4/4 [==============================] - 0s 7ms/step - loss: 10519.8154 - val_loss: 461.8735\n",
            "Epoch 493/500\n",
            "4/4 [==============================] - 0s 8ms/step - loss: 10501.4951 - val_loss: 510.0346\n",
            "Epoch 494/500\n",
            "4/4 [==============================] - 0s 6ms/step - loss: 10528.7139 - val_loss: 484.2318\n",
            "Epoch 495/500\n",
            "4/4 [==============================] - 0s 9ms/step - loss: 10506.5869 - val_loss: 462.8630\n",
            "Epoch 496/500\n",
            "4/4 [==============================] - 0s 6ms/step - loss: 10492.5889 - val_loss: 449.0803\n",
            "Epoch 497/500\n",
            "4/4 [==============================] - 0s 8ms/step - loss: 10480.5020 - val_loss: 446.5040\n",
            "Epoch 498/500\n",
            "4/4 [==============================] - 0s 7ms/step - loss: 10510.9033 - val_loss: 446.3988\n",
            "Epoch 499/500\n",
            "4/4 [==============================] - 0s 7ms/step - loss: 10480.6709 - val_loss: 437.1941\n",
            "Epoch 500/500\n",
            "4/4 [==============================] - 0s 6ms/step - loss: 10482.0820 - val_loss: 429.5865\n"
          ],
          "name": "stdout"
        }
      ]
    },
    {
      "cell_type": "code",
      "metadata": {
        "colab": {
          "base_uri": "https://localhost:8080/"
        },
        "id": "91gyo-jo1aq_",
        "outputId": "945c4252-c975-4293-ee6e-f7f3dd0cd88c"
      },
      "source": [
        "# Make prediction with test dataset and calculate the R^2 value\n",
        "from sklearn.metrics import r2_score\n",
        "y_pred_test = ANN_model.predict(testX)\n",
        "score = r2_score(testY, y_pred_test)\n",
        "print('R^2 =',format(score))"
      ],
      "execution_count": null,
      "outputs": [
        {
          "output_type": "stream",
          "text": [
            "R^2 = 0.20581732408066833\n"
          ],
          "name": "stdout"
        }
      ]
    },
    {
      "cell_type": "code",
      "metadata": {
        "colab": {
          "base_uri": "https://localhost:8080/",
          "height": 388
        },
        "id": "uramRb2y1YOV",
        "outputId": "6b5c1277-791f-40b6-c96f-98786e3e68b3"
      },
      "source": [
        "# plot the training loss and testing loss vs number of epochs\n",
        "plt.figure(figsize=(8,6))\n",
        "plt.plot(history.history['loss'],label='training loss') \n",
        "plt.plot(history.history['val_loss'],label='testing loss')\n",
        "plt.legend()\n",
        "plt.xlabel('Epoch')\n",
        "plt.ylabel('Loss')\n",
        "plt.show()"
      ],
      "execution_count": null,
      "outputs": [
        {
          "output_type": "display_data",
          "data": {
            "image/png": "[encoded data removed]",
            "text/plain": [
              "<Figure size 576x432 with 1 Axes>"
            ]
          },
          "metadata": {
            "tags": [],
            "needs_background": "light"
          }
        }
      ]
    },
    {
      "cell_type": "markdown",
      "metadata": {
        "id": "wp5WglpEJy3I"
      },
      "source": [
        "<br><br>\n",
        "## Classification"
      ]
    },
    {
      "cell_type": "markdown",
      "metadata": {
        "id": "kS8lwydV9dLM"
      },
      "source": [
        "## KNN(K nearest neighbors)"
      ]
    },
    {
      "cell_type": "code",
      "metadata": {
        "id": "W2CYAos627hn",
        "colab": {
          "base_uri": "https://localhost:8080/"
        },
        "outputId": "2e6e253d-a590-4b47-f597-da9388fcade2"
      },
      "source": [
        "# Get input dataset\n",
        "#X = data[['season','FFMC','DMC','DC','ISI','temp','RH','wind','rain']]\n",
        "X = data[['season','FFMC','DMC','DC']]\n",
        "print(X)\n"
      ],
      "execution_count": null,
      "outputs": [
        {
          "output_type": "stream",
          "text": [
            "     season  FFMC    DMC     DC\n",
            "139       3  91.0  129.5  692.6\n",
            "140       3  90.9  126.5  686.5\n",
            "141       2  95.5   99.9  513.3\n",
            "143       2  90.0   51.3  296.3\n",
            "144       2  95.5   99.9  513.3\n",
            "..      ...   ...    ...    ...\n",
            "496       2  96.2  175.5  661.8\n",
            "497       2  96.1  181.1  671.2\n",
            "498       2  96.1  181.1  671.2\n",
            "505       2  91.0  163.2  744.4\n",
            "510       2  91.0  166.9  752.6\n",
            "\n",
            "[190 rows x 4 columns]\n"
          ],
          "name": "stdout"
        }
      ]
    },
    {
      "cell_type": "code",
      "metadata": {
        "id": "xgf7ThbAcNkK"
      },
      "source": [
        "#Standarlize the Data for KNN, SVM, Decision Tree, and Logistic Regression\n",
        "X_standardized = (X-X.mean())/(X.std())"
      ],
      "execution_count": null,
      "outputs": []
    },
    {
      "cell_type": "code",
      "metadata": {
        "id": "-ep_SZa_aRmD"
      },
      "source": [
        "# Get output dataset with logarithm processing\n",
        "data.area = np.log10(data.area).values"
      ],
      "execution_count": null,
      "outputs": []
    },
    {
      "cell_type": "code",
      "metadata": {
        "colab": {
          "base_uri": "https://localhost:8080/"
        },
        "id": "DXwPzSH7QJum",
        "outputId": "e084609c-09ea-4b80-f85f-27a5737ddd92"
      },
      "source": [
        "# Converting the Area into a binary variable (Small Fires #0 & Large Fires #1)\n",
        "\n",
        "data.loc[data.area <= np.log10(3.2), \"area\"] = 0\n",
        "data.loc[data.area > np.log10(3.2), \"area\"] = 1\n",
        "\n",
        "print(data.area)"
      ],
      "execution_count": null,
      "outputs": [
        {
          "output_type": "stream",
          "text": [
            "139    0.0\n",
            "140    0.0\n",
            "141    0.0\n",
            "143    0.0\n",
            "144    0.0\n",
            "      ... \n",
            "496    0.0\n",
            "497    1.0\n",
            "498    1.0\n",
            "505    1.0\n",
            "510    0.0\n",
            "Name: area, Length: 190, dtype: float64\n"
          ],
          "name": "stdout"
        }
      ]
    },
    {
      "cell_type": "code",
      "metadata": {
        "colab": {
          "base_uri": "https://localhost:8080/",
          "height": 225
        },
        "id": "3aCu4IjO5NNj",
        "outputId": "48a6ae80-1ab9-4545-ff78-b1790df4be3d"
      },
      "source": [
        "# Histogram for Output Bias Test\n",
        "Y_binary = data.area.values\n",
        "fig = plt.figure(figsize = (3,3))\n",
        "plt.xlabel(\"Area\")\n",
        "plt.ylabel(\"Frequency\") \n",
        "freq, bins, patches = plt.hist(Y_binary, color='steelblue', bins=3,\n",
        "                                    edgecolor='black', linewidth=1)"
      ],
      "execution_count": null,
      "outputs": [
        {
          "output_type": "display_data",
          "data": {
            "image/png": "[encoded data removed]",
            "text/plain": [
              "<Figure size 216x216 with 1 Axes>"
            ]
          },
          "metadata": {
            "tags": [],
            "needs_background": "light"
          }
        }
      ]
    },
    {
      "cell_type": "code",
      "metadata": {
        "id": "qIiFmurR27hn"
      },
      "source": [
        "#Data splitting\n",
        "from sklearn.model_selection import train_test_split  #importing the train_test_split function from the sklearn library\n",
        "\n",
        "trainX, testX, trainy, testy = train_test_split(X_standardized, Y_binary, test_size=0.2, shuffle=True, random_state=1)   # split the dataset"
      ],
      "execution_count": null,
      "outputs": []
    },
    {
      "cell_type": "code",
      "metadata": {
        "colab": {
          "base_uri": "https://localhost:8080/",
          "height": 359
        },
        "id": "ng4_-XZ094BL",
        "outputId": "c6c2ec6b-d83b-43db-8989-e54ba62bbe26"
      },
      "source": [
        "#import KNeighboursClassifier from the sklearn library\n",
        "from sklearn.neighbors import KNeighborsClassifier\n",
        "from sklearn.impute import SimpleImputer\n",
        "from sklearn.metrics import accuracy_score\n",
        "from sklearn.metrics import confusion_matrix\n",
        "from sklearn.metrics import classification_report\n",
        "\n",
        "#create an empty list to store the accuracy for each k value. This will be later used for comparison\n",
        "train_scores_KNN = []\n",
        "test_scores_KNN = []\n",
        "\n",
        "#run this for loop to find the best k value\n",
        "for i in range(1,20):\n",
        "    #for the current loop assign k=i\n",
        "    knn = KNeighborsClassifier(i)\n",
        "    #the training data\n",
        "    knn.fit(trainX,trainy)\n",
        "    #predict the class label for the training data\n",
        "    pred_Y_train=knn.predict(trainX)\n",
        "    #get the training accuracy\n",
        "    train_accuracy=accuracy_score(pred_Y_train,trainy)\n",
        "    #append the training accuracy at a particular k value to the list.\n",
        "    train_scores_KNN.append(train_accuracy)\n",
        "\n",
        "    #predict the class label for test data\n",
        "    pred_Y_test=knn.predict(testX)\n",
        "    #get the test accuracy\n",
        "    test_accuracy=accuracy_score(pred_Y_test,testy)\n",
        "    #append the test accuracy at a particular k value to the list.\n",
        "    test_scores_KNN.append(test_accuracy)\n",
        "\n",
        "plt.figure(figsize=(20,5))\n",
        "p = sns.lineplot(range(1,20),train_scores_KNN,marker='*',label='Train Score')\n",
        "p = sns.lineplot(range(1,20),test_scores_KNN,marker='o',label='Test Score')\n",
        "plt.xlabel(\"K\")\n",
        "plt.ylabel(\"Accuracy\")\n",
        "\n",
        "print(\"According to the plot, we can see that best performance of the KNN classifier is at k=6. Both training score and test score are close to each other and also maximum for the test score. Hence we set up our knn classifier with k=3\")\n",
        "\n",
        "#Setup a knn classifier with k neighbors\n",
        "knn_Uniform = KNeighborsClassifier(14)\n",
        "knn_Uniform.fit(trainX,trainy)\n",
        "\n",
        "pred_Y_train=knn_Uniform.predict(trainX)\n",
        "train_accuracy=accuracy_score(pred_Y_train,trainy)\n",
        "pred_Y_test=knn_Uniform.predict(testX)\n",
        "test_accuracy=accuracy_score(pred_Y_test,testy)\n",
        "\n",
        "print(\"The accuracy of the model on training data for k=14, Uniform Weight Function:\",train_accuracy)\n",
        "print(\"The accuracy of the model on test data for k=14, Uniform Weight Function:\",test_accuracy,)\n"
      ],
      "execution_count": null,
      "outputs": [
        {
          "output_type": "stream",
          "text": [
            "/usr/local/lib/python3.6/dist-packages/seaborn/_decorators.py:43: FutureWarning: Pass the following variables as keyword args: x, y. From version 0.12, the only valid positional argument will be `data`, and passing other arguments without an explicit keyword will result in an error or misinterpretation.\n",
            "  FutureWarning\n",
            "/usr/local/lib/python3.6/dist-packages/seaborn/_decorators.py:43: FutureWarning: Pass the following variables as keyword args: x, y. From version 0.12, the only valid positional argument will be `data`, and passing other arguments without an explicit keyword will result in an error or misinterpretation.\n",
            "  FutureWarning\n"
          ],
          "name": "stderr"
        },
        {
          "output_type": "stream",
          "text": [
            "According to the plot, we can see that best performance of the KNN classifier is at k=6. Both training score and test score are close to each other and also maximum for the test score. Hence we set up our knn classifier with k=3\n",
            "The accuracy of the model on training data for k=14, Uniform Weight Function: 0.6578947368421053\n",
            "The accuracy of the model on test data for k=14, Uniform Weight Function: 0.7368421052631579\n"
          ],
          "name": "stdout"
        },
        {
          "output_type": "display_data",
          "data": {
            "image/png": "[encoded data removed]",
            "text/plain": [
              "<Figure size 1440x360 with 1 Axes>"
            ]
          },
          "metadata": {
            "tags": [],
            "needs_background": "light"
          }
        }
      ]
    },
    {
      "cell_type": "code",
      "metadata": {
        "colab": {
          "base_uri": "https://localhost:8080/",
          "height": 439
        },
        "id": "3e_9nGzBSwdt",
        "outputId": "98c8991d-eeee-4c3a-eba0-4432b372efdc"
      },
      "source": [
        "#build a confusion matrix for training data to visualize the performance of the model using Distance Weight Function\n",
        "from sklearn.metrics import confusion_matrix\n",
        "mat = confusion_matrix(testY_KNN, pred_Y_test)\n",
        "sns.heatmap(mat.T, square=True, annot=True, fmt='d', cbar=False,\n",
        "            )\n",
        "plt.xlabel('true label')\n",
        "plt.ylabel('predicted label');\n",
        "\n",
        "#import classification_report for training data - (Precision, Recall, F1-score and support)\n",
        "from sklearn.metrics import classification_report\n",
        "print(classification_report(testY_KNN,pred_Y_test))\n"
      ],
      "execution_count": null,
      "outputs": [
        {
          "output_type": "stream",
          "text": [
            "              precision    recall  f1-score   support\n",
            "\n",
            "         0.0       0.69      0.60      0.64        15\n",
            "         1.0       0.76      0.83      0.79        23\n",
            "\n",
            "    accuracy                           0.74        38\n",
            "   macro avg       0.73      0.71      0.72        38\n",
            "weighted avg       0.73      0.74      0.73        38\n",
            "\n"
          ],
          "name": "stdout"
        },
        {
          "output_type": "display_data",
          "data": {
            "image/png": "[encoded data removed]",
            "text/plain": [
              "<Figure size 432x288 with 1 Axes>"
            ]
          },
          "metadata": {
            "tags": [],
            "needs_background": "light"
          }
        }
      ]
    },
    {
      "cell_type": "markdown",
      "metadata": {
        "id": "fhKt4CeVptEf"
      },
      "source": [
        "### Logistic Regression"
      ]
    },
    {
      "cell_type": "code",
      "metadata": {
        "id": "P17a8iHuT2vB"
      },
      "source": [
        "#Logistic regression model\n",
        "\n",
        "#import the necessary functions\n",
        "from sklearn.metrics import accuracy_score\n",
        "from sklearn.linear_model import LogisticRegression\n",
        "\n",
        "#define an instance of the LogisticRegression class\n",
        "model_log = LogisticRegression(penalty=\"l2\",C=1.0,fit_intercept=True,max_iter=100)\n",
        "\n",
        "# fit the model on the training set\n",
        "model_log.fit(trainX, trainy) # fit function determines the coefficients using the maximum likelihood estimate (MLE) method.\n",
        "\n",
        "# predict the test set\n",
        "yhat = model_log.predict(testX) # Prediction using the test data"
      ],
      "execution_count": null,
      "outputs": []
    },
    {
      "cell_type": "code",
      "metadata": {
        "id": "zAdKH6m_1Gim",
        "colab": {
          "base_uri": "https://localhost:8080/"
        },
        "outputId": "6a2606c5-f25d-48da-da20-5743a53b83b2"
      },
      "source": [
        "#print out the model parameters beta_i\n",
        "print(model_log.intercept_)\n",
        "print(model_log.coef_)"
      ],
      "execution_count": null,
      "outputs": [
        {
          "output_type": "stream",
          "text": [
            "[0.42171001]\n",
            "[[ 0.70440611  0.06302333  0.25971736 -0.44447234]]\n"
          ],
          "name": "stdout"
        }
      ]
    },
    {
      "cell_type": "code",
      "metadata": {
        "id": "AC_hu5740ueS",
        "colab": {
          "base_uri": "https://localhost:8080/"
        },
        "outputId": "03ffd3ea-0ee6-4410-c251-e97059d0b776"
      },
      "source": [
        "# evaluate model accuracy. \n",
        "score = accuracy_score(testy, yhat)\n",
        "print(score)"
      ],
      "execution_count": null,
      "outputs": [
        {
          "output_type": "stream",
          "text": [
            "0.6052631578947368\n"
          ],
          "name": "stdout"
        }
      ]
    },
    {
      "cell_type": "code",
      "metadata": {
        "colab": {
          "base_uri": "https://localhost:8080/",
          "height": 439
        },
        "id": "DWSdr4zHr1yn",
        "outputId": "38f2e538-0aeb-44d9-bffc-7b4b3c5cef52"
      },
      "source": [
        "#build a confusion matrix to better understand the result. Visualize the confusion matrix as a heat map using the Seaborn library.\n",
        "from sklearn.metrics import confusion_matrix\n",
        "mat = confusion_matrix(testy, yhat)\n",
        "sns.heatmap(mat.T, square=True, annot=True, fmt='d', cbar=False,\n",
        "            )\n",
        "plt.xlabel('true label')\n",
        "plt.ylabel('predicted label');\n",
        "\n",
        "#import classification_report- (Precision, Recall, F1-score and support)\n",
        "from sklearn.metrics import classification_report\n",
        "print(classification_report(testy, yhat))"
      ],
      "execution_count": null,
      "outputs": [
        {
          "output_type": "stream",
          "text": [
            "              precision    recall  f1-score   support\n",
            "\n",
            "         0.0       0.50      0.27      0.35        15\n",
            "         1.0       0.63      0.83      0.72        23\n",
            "\n",
            "    accuracy                           0.61        38\n",
            "   macro avg       0.57      0.55      0.53        38\n",
            "weighted avg       0.58      0.61      0.57        38\n",
            "\n"
          ],
          "name": "stdout"
        },
        {
          "output_type": "display_data",
          "data": {
            "image/png": "[encoded data removed]",
            "text/plain": [
              "<Figure size 432x288 with 1 Axes>"
            ]
          },
          "metadata": {
            "tags": [],
            "needs_background": "light"
          }
        }
      ]
    },
    {
      "cell_type": "markdown",
      "metadata": {
        "id": "6F7z5vvCsEdt"
      },
      "source": [
        "### Support Vector Machine - Linear Kernel\n",
        "\n"
      ]
    },
    {
      "cell_type": "code",
      "metadata": {
        "colab": {
          "base_uri": "https://localhost:8080/",
          "height": 512
        },
        "id": "w3T-Ov-er5h8",
        "outputId": "ffc878e9-70e9-4b14-c0f2-a704f0cee5df"
      },
      "source": [
        "#Support vector machines - Linear Kernel\n",
        "#import svm function from the sklearn library\n",
        "from sklearn import svm\n",
        "model_linear = svm.SVC(kernel='linear',C=1,max_iter=1000) #define an instance of SVC class\n",
        "model_linear.fit(trainX,trainy)\n",
        "\n",
        "# predict the test set\n",
        "yhat = model_linear.predict(testX) # Prediction using the test data\n",
        "\n",
        "# evaluate model accuracy. \n",
        "score = accuracy_score(testy, yhat)\n",
        "print(score)\n",
        "\n",
        "#build a confusion matrix to better understand the result. Visualize the confusion matrix as a heat map using the Seaborn library.\n",
        "from sklearn.metrics import confusion_matrix\n",
        "mat = confusion_matrix(testy, yhat)\n",
        "sns.heatmap(mat.T, square=True, annot=True, fmt='d', cbar=False,\n",
        "            )\n",
        "plt.xlabel('true label')\n",
        "plt.ylabel('predicted label');\n",
        "\n",
        "#import classification_report- (Precision, Recall, F1-score and support)\n",
        "from sklearn.metrics import classification_report\n",
        "print(classification_report(testy, yhat))\n"
      ],
      "execution_count": null,
      "outputs": [
        {
          "output_type": "stream",
          "text": [
            "0.6052631578947368\n",
            "              precision    recall  f1-score   support\n",
            "\n",
            "         0.0       0.00      0.00      0.00        15\n",
            "         1.0       0.61      1.00      0.75        23\n",
            "\n",
            "    accuracy                           0.61        38\n",
            "   macro avg       0.30      0.50      0.38        38\n",
            "weighted avg       0.37      0.61      0.46        38\n",
            "\n"
          ],
          "name": "stdout"
        },
        {
          "output_type": "stream",
          "text": [
            "/usr/local/lib/python3.6/dist-packages/sklearn/metrics/_classification.py:1272: UndefinedMetricWarning: Precision and F-score are ill-defined and being set to 0.0 in labels with no predicted samples. Use `zero_division` parameter to control this behavior.\n",
            "  _warn_prf(average, modifier, msg_start, len(result))\n"
          ],
          "name": "stderr"
        },
        {
          "output_type": "display_data",
          "data": {
            "image/png": "[encoded data removed]",
            "text/plain": [
              "<Figure size 432x288 with 1 Axes>"
            ]
          },
          "metadata": {
            "tags": [],
            "needs_background": "light"
          }
        }
      ]
    },
    {
      "cell_type": "markdown",
      "metadata": {
        "id": "g9H2j2t4sN_w"
      },
      "source": [
        "### Support Vector Machine - Polynomial Kernel\n"
      ]
    },
    {
      "cell_type": "code",
      "metadata": {
        "colab": {
          "base_uri": "https://localhost:8080/",
          "height": 457
        },
        "id": "uK9Ec5L9r9v8",
        "outputId": "4aebdde8-6b97-46e7-f653-578bb9427763"
      },
      "source": [
        "#Support vector machines - Polynomial Kernel\n",
        "from sklearn import svm\n",
        "model_poly = svm.SVC(kernel='poly',degree=2,C=1,max_iter=1000) #define an instance of SVC class\n",
        "model_poly.fit(trainX,trainy)\n",
        "\n",
        "# predict the test set\n",
        "yhat = model_poly.predict(testX) # Prediction using the test data\n",
        "\n",
        "# evaluate model accuracy. \n",
        "score = accuracy_score(testy, yhat)\n",
        "print(score)\n",
        "\n",
        "#build a confusion matrix to better understand the result. Visualize the confusion matrix as a heat map using the Seaborn library.\n",
        "from sklearn.metrics import confusion_matrix\n",
        "mat = confusion_matrix(testy, yhat)\n",
        "sns.heatmap(mat.T, square=True, annot=True, fmt='d', cbar=False,\n",
        "            )\n",
        "plt.xlabel('true label')\n",
        "plt.ylabel('predicted label');\n",
        "\n",
        "#import classification_report- (Precision, Recall, F1-score and support)\n",
        "from sklearn.metrics import classification_report\n",
        "print(classification_report(testy, yhat))\n"
      ],
      "execution_count": null,
      "outputs": [
        {
          "output_type": "stream",
          "text": [
            "0.6052631578947368\n",
            "              precision    recall  f1-score   support\n",
            "\n",
            "         0.0       0.50      0.13      0.21        15\n",
            "         1.0       0.62      0.91      0.74        23\n",
            "\n",
            "    accuracy                           0.61        38\n",
            "   macro avg       0.56      0.52      0.47        38\n",
            "weighted avg       0.57      0.61      0.53        38\n",
            "\n"
          ],
          "name": "stdout"
        },
        {
          "output_type": "display_data",
          "data": {
            "image/png": "[encoded data removed]",
            "text/plain": [
              "<Figure size 432x288 with 1 Axes>"
            ]
          },
          "metadata": {
            "tags": [],
            "needs_background": "light"
          }
        }
      ]
    },
    {
      "cell_type": "markdown",
      "metadata": {
        "id": "77FyKGMVsgq-"
      },
      "source": [
        "### Support Vector Machine - RBF Kernel\n"
      ]
    },
    {
      "cell_type": "code",
      "metadata": {
        "colab": {
          "base_uri": "https://localhost:8080/",
          "height": 457
        },
        "id": "q6Fk0OnLsZ2a",
        "outputId": "42207b1d-8daf-490f-c089-b5a2ff80b58d"
      },
      "source": [
        "#Support vector machines-RBF Kernel\n",
        "from sklearn import svm\n",
        "model_rbf = svm.SVC(kernel='rbf',degree=2,C=1,max_iter=1000) #define an instance of SVC class\n",
        "model_rbf.fit(trainX,trainy)\n",
        "\n",
        "# predict the test set\n",
        "yhat = model_rbf.predict(testX) # Prediction using the test data\n",
        "\n",
        "# evaluate model accuracy. \n",
        "score = accuracy_score(testy, yhat)\n",
        "print(score)\n",
        "\n",
        "#build a confusion matrix to better understand the result. Visualize the confusion matrix as a heat map using the Seaborn library.\n",
        "from sklearn.metrics import confusion_matrix\n",
        "mat = confusion_matrix(testy, yhat)\n",
        "sns.heatmap(mat.T, square=True, annot=True, fmt='d', cbar=False,\n",
        "            )\n",
        "plt.xlabel('true label')\n",
        "plt.ylabel('predicted label');\n",
        "\n",
        "#import classification_report- (Precision, Recall, F1-score and support)\n",
        "from sklearn.metrics import classification_report\n",
        "print(classification_report(testy, yhat))\n"
      ],
      "execution_count": null,
      "outputs": [
        {
          "output_type": "stream",
          "text": [
            "0.631578947368421\n",
            "              precision    recall  f1-score   support\n",
            "\n",
            "         0.0       0.60      0.20      0.30        15\n",
            "         1.0       0.64      0.91      0.75        23\n",
            "\n",
            "    accuracy                           0.63        38\n",
            "   macro avg       0.62      0.56      0.53        38\n",
            "weighted avg       0.62      0.63      0.57        38\n",
            "\n"
          ],
          "name": "stdout"
        },
        {
          "output_type": "display_data",
          "data": {
            "image/png": "[encoded data removed]",
            "text/plain": [
              "<Figure size 432x288 with 1 Axes>"
            ]
          },
          "metadata": {
            "tags": [],
            "needs_background": "light"
          }
        }
      ]
    },
    {
      "cell_type": "markdown",
      "metadata": {
        "id": "9ylFUdbnWOVO"
      },
      "source": [
        "### Decision Tree"
      ]
    },
    {
      "cell_type": "code",
      "metadata": {
        "colab": {
          "base_uri": "https://localhost:8080/",
          "height": 457
        },
        "id": "GaLZiM2gWS_r",
        "outputId": "53fb2c5e-2a66-4746-8c61-c3148490d3a0"
      },
      "source": [
        "#Decision Tree Classifier\n",
        "from sklearn import tree\n",
        "clf = tree.DecisionTreeClassifier()\n",
        "clf = clf.fit(trainX,trainy)\n",
        "\n",
        "# predict the test set\n",
        "yhat = clf.predict(testX)\n",
        "\n",
        "# evaluate model accuracy. \n",
        "score = accuracy_score(testy, yhat)\n",
        "print(score)\n",
        "\n",
        "#build a confusion matrix to better understand the result. Visualize the confusion matrix as a heat map using the Seaborn library.\n",
        "from sklearn.metrics import confusion_matrix\n",
        "mat = confusion_matrix(testy, yhat)\n",
        "sns.heatmap(mat.T, square=True, annot=True, fmt='d', cbar=False,\n",
        "            )\n",
        "plt.xlabel('true label')\n",
        "plt.ylabel('predicted label');\n",
        "\n",
        "#import classification_report- (Precision, Recall, F1-score and support)\n",
        "from sklearn.metrics import classification_report\n",
        "print(classification_report(testy, yhat))\n"
      ],
      "execution_count": null,
      "outputs": [
        {
          "output_type": "stream",
          "text": [
            "0.5\n",
            "              precision    recall  f1-score   support\n",
            "\n",
            "         0.0       0.39      0.47      0.42        15\n",
            "         1.0       0.60      0.52      0.56        23\n",
            "\n",
            "    accuracy                           0.50        38\n",
            "   macro avg       0.49      0.49      0.49        38\n",
            "weighted avg       0.52      0.50      0.51        38\n",
            "\n"
          ],
          "name": "stdout"
        },
        {
          "output_type": "display_data",
          "data": {
            "image/png": "[encoded data removed]",
            "text/plain": [
              "<Figure size 432x288 with 1 Axes>"
            ]
          },
          "metadata": {
            "tags": [],
            "needs_background": "light"
          }
        }
      ]
    },
    {
      "cell_type": "code",
      "metadata": {
        "id": "yO3k40EIXZfG"
      },
      "source": [
        ""
      ],
      "execution_count": null,
      "outputs": []
    }
  ]
}